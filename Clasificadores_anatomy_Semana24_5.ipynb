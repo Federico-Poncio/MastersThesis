{
  "nbformat": 4,
  "nbformat_minor": 0,
  "metadata": {
    "colab": {
      "name": "Clasificadores_anatomy_Semana24/5.ipynb",
      "provenance": [],
      "collapsed_sections": []
    },
    "kernelspec": {
      "name": "python3",
      "display_name": "Python 3"
    },
    "language_info": {
      "name": "python"
    }
  },
  "cells": [
    {
      "cell_type": "code",
      "metadata": {
        "colab": {
          "base_uri": "https://localhost:8080/"
        },
        "id": "uL4awPhb27XM",
        "outputId": "138fff24-ce08-44f3-90f2-26bc80536c4c"
      },
      "source": [
        "from google.colab import drive \n",
        "drive.mount('/content/gdrive/')\n",
        "\n",
        "%cd /content/gdrive/My\\ Drive/TESIS/autism-master/"
      ],
      "execution_count": null,
      "outputs": [
        {
          "output_type": "stream",
          "text": [
            "Drive already mounted at /content/gdrive/; to attempt to forcibly remount, call drive.mount(\"/content/gdrive/\", force_remount=True).\n",
            "/content/gdrive/My Drive/TESIS/autism-master\n"
          ],
          "name": "stdout"
        }
      ]
    },
    {
      "cell_type": "code",
      "metadata": {
        "id": "kw2Jmtnb3FFI"
      },
      "source": [
        "%%capture\n",
        "import os\n",
        "import sys\n",
        "from sklearn.pipeline import make_pipeline\n",
        "from sklearn.model_selection import cross_validate\n",
        "!{sys.executable} -m pip install https://api.github.com/repos/paris-saclay-cds/ramp-workflow/zipball/master\n",
        "from problem import get_cv\n",
        "from problem import get_train_data\n",
        "from sklearn.ensemble import *\n",
        "from sklearn.svm import *\n",
        "from sklearn.model_selection import GridSearchCV, KFold, ShuffleSplit\n",
        "import pandas as pd\n",
        "!pip install xgboost\n",
        "import numpy as np\n",
        "import warnings\n",
        "warnings.filterwarnings(\"ignore\", category=np.VisibleDeprecationWarning) "
      ],
      "execution_count": null,
      "outputs": []
    },
    {
      "cell_type": "code",
      "metadata": {
        "id": "LusqGzoa3M3n"
      },
      "source": [
        "sys.path.append('./modelos_propios/anatomy_solo/rf/')\n",
        "import classifier\n",
        "import feature_extractor\n",
        "from feature_extractor import *\n",
        "from classifier import *"
      ],
      "execution_count": null,
      "outputs": []
    },
    {
      "cell_type": "code",
      "metadata": {
        "id": "0rJppqOq3Sco"
      },
      "source": [
        "data_train, labels_train = get_train_data()"
      ],
      "execution_count": null,
      "outputs": []
    },
    {
      "cell_type": "code",
      "metadata": {
        "id": "rfwi_ekM3UEn"
      },
      "source": [
        "def evaluation(X, y):\n",
        "    pipe = make_pipeline(FeatureExtractor(), Classifier())\n",
        "    cv = get_cv(X, y)\n",
        "    results = cross_validate(pipe, X, y, scoring=['roc_auc', 'accuracy', 'precision', 'recall'], cv=cv,\n",
        "                             verbose=0, return_train_score=True,\n",
        "                             n_jobs=1)\n",
        "    \n",
        "    return results"
      ],
      "execution_count": null,
      "outputs": []
    },
    {
      "cell_type": "code",
      "metadata": {
        "id": "dw2y4D2S3WYn",
        "colab": {
          "base_uri": "https://localhost:8080/"
        },
        "outputId": "909b4645-45ea-4aba-b40a-92877d6ca6c0"
      },
      "source": [
        "results = evaluation(data_train, labels_train)\n",
        "\n",
        "print(\"Training score ROC-AUC: {:.3f} +- {:.3f}\".format(np.mean(results['train_roc_auc']),\n",
        "                                                        np.std(results['train_roc_auc'])))\n",
        "print(\"Validation score ROC-AUC: {:.3f} +- {:.3f} \\n\".format(np.mean(results['test_roc_auc']),\n",
        "                                                          np.std(results['test_roc_auc'])))\n",
        "\n",
        "print(\"Training score accuracy: {:.3f} +- {:.3f}\".format(np.mean(results['train_accuracy']),\n",
        "                                                         np.std(results['train_accuracy'])))\n",
        "print(\"Validation score accuracy: {:.3f} +- {:.3f}\".format(np.mean(results['test_accuracy']),\n",
        "                                                           np.std(results['test_accuracy'])))\n",
        "\n",
        "\n",
        "print(\"ROC-AUC: {:.3f} +- {:.3f}\".format(np.mean(results['test_roc_auc']), np.std(results['test_roc_auc'])))\n",
        "print(\"accuracy: {:.3f} +- {:.3f}\".format(np.mean(results['test_accuracy']), np.std(results['test_accuracy'])))\n",
        "print(\"precision: {:.3f} +- {:.3f}\".format(np.mean(results['test_precision']), np.std(results['test_precision'])))\n",
        "print(\"recall: {:.3f} +- {:.3f}\".format(np.mean(results['test_recall']), np.std(results['test_recall'])))"
      ],
      "execution_count": null,
      "outputs": [
        {
          "output_type": "stream",
          "text": [
            "Training score ROC-AUC: 1.000 +- 0.000\n",
            "Validation score ROC-AUC: 0.646 +- 0.031 \n",
            "\n",
            "Training score accuracy: 1.000 +- 0.000\n",
            "Validation score accuracy: 0.612 +- 0.034\n",
            "ROC-AUC: 0.646 +- 0.031\n",
            "accuracy: 0.612 +- 0.034\n",
            "precision: 0.614 +- 0.046\n",
            "recall: 0.510 +- 0.051\n"
          ],
          "name": "stdout"
        }
      ]
    }
  ]
}
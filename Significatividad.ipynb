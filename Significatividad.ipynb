{
  "nbformat": 4,
  "nbformat_minor": 0,
  "metadata": {
    "colab": {
      "name": "Significatividad.ipynb",
      "provenance": [],
      "collapsed_sections": []
    },
    "kernelspec": {
      "name": "python3",
      "display_name": "Python 3"
    },
    "language_info": {
      "name": "python"
    }
  },
  "cells": [
    {
      "cell_type": "code",
      "metadata": {
        "colab": {
          "base_uri": "https://localhost:8080/"
        },
        "id": "WVqr1Rbe2nPT",
        "outputId": "937d246d-944a-4552-d904-df029619e057"
      },
      "source": [
        "from google.colab import drive \n",
        "drive.mount('/content/gdrive/')\n",
        "\n",
        "%cd /content/gdrive/My\\ Drive/TESIS/autism-master/"
      ],
      "execution_count": null,
      "outputs": [
        {
          "output_type": "stream",
          "name": "stdout",
          "text": [
            "Mounted at /content/gdrive/\n",
            "/content/gdrive/My Drive/TESIS/autism-master\n"
          ]
        }
      ]
    },
    {
      "cell_type": "markdown",
      "metadata": {
        "id": "FviDXHNfxAKA"
      },
      "source": [
        "La idea es testear la significatividad de la diferencia entre el modelo de XGB con Anatomía + BASC-197 (pcorr) (cosine) para el diagrama de persistencia vs la matriz diagonalizada."
      ]
    },
    {
      "cell_type": "markdown",
      "metadata": {
        "id": "nHx7gVXkxSwL"
      },
      "source": [
        "Idea general:\n",
        "- Generar las matrices, guardarlas\n",
        "- Generar los diagramas, vectorizarlos, guardarlos\n",
        "- Tener las features anatómicas\n",
        "- Tener el vector de labels\n",
        "\n",
        "Fijando un n-FCV, (n=3?), fijando un número N de iteraciones, y con métricas ACC, PRE, REC, AUC."
      ]
    },
    {
      "cell_type": "markdown",
      "metadata": {
        "id": "_byQsnNTpAgR"
      },
      "source": [
        "## Setup"
      ]
    },
    {
      "cell_type": "code",
      "metadata": {
        "id": "qCIo7A30wSou"
      },
      "source": [
        "%%capture\n",
        "import os\n",
        "import sys\n",
        "from sklearn.pipeline import make_pipeline\n",
        "from sklearn.model_selection import cross_validate\n",
        "!{sys.executable} -m pip install https://api.github.com/repos/paris-saclay-cds/ramp-workflow/zipball/master\n",
        "!{sys.executable} -m pip install scikit-learn seaborn nilearn\n",
        "from problem import get_cv\n",
        "from download_data import fetch_fmri_time_series\n",
        "from problem import get_train_data\n",
        "!pip install ripser\n",
        "from ripser import ripser\n",
        "from persim import plot_diagrams\n",
        "!pip install tensorflow_addons  \n",
        "!pip install gudhi\n",
        "import pickle as pkl\n",
        "from sklearn.ensemble import *\n",
        "from sklearn.svm import *\n",
        "from sklearn.pipeline import Pipeline\n",
        "from sklearn.preprocessing import MinMaxScaler\n",
        "from sklearn.model_selection import GridSearchCV, KFold, ShuffleSplit\n",
        "from tensorflow import random_uniform_initializer as rui\n",
        "import gudhi.representations as tda\n",
        "import tensorflow as tf\n",
        "import os.path\n",
        "import itertools\n",
        "import h5py\n",
        "import tensorflow_addons  as tfa\n",
        "import gudhi              as gd\n",
        "from scipy.sparse           import csgraph\n",
        "from scipy.io               import loadmat\n",
        "from scipy.linalg           import eigh\n",
        "from sklearn.preprocessing  import LabelEncoder, OneHotEncoder\n",
        "from sklearn.cluster import KMeans\n",
        "import pandas as pd\n",
        "import seaborn as sns\n",
        "# Reduccion dimensionalidad\n",
        "from sklearn.decomposition import PCA\n",
        "from sklearn.manifold import TSNE\n",
        "!pip install git+https://github.com/MathieuCarriere/perslay\n",
        "!pip install git+https://github.com/MathieuCarriere/sklearn-tda\n",
        "from perslay import PerslayModel\n",
        "from scipy.stats import beta\n",
        "!pip install nilearn\n",
        "from nilearn.connectome import ConnectivityMeasure\n",
        "import matplotlib.pyplot as plt\n",
        "!pip install xgboost\n",
        "import numpy as np\n",
        "import warnings\n",
        "warnings.filterwarnings(\"ignore\", category=np.VisibleDeprecationWarning) \n",
        "import time\n",
        "import numpy as np\n",
        "import pandas as pd\n",
        "\n",
        "from sklearn.base import BaseEstimator, TransformerMixin\n",
        "from sklearn.pipeline import make_pipeline\n",
        "from sklearn.preprocessing import FunctionTransformer\n",
        "\n",
        "from nilearn.connectome import ConnectivityMeasure\n",
        "from nilearn.connectome import vec_to_sym_matrix\n",
        "\n",
        "from sklearn.pipeline import Pipeline\n",
        "from perslay import PerslayModel\n",
        "from ripser import ripser\n",
        "import tensorflow_addons  as tfa\n",
        "import gudhi.representations as tda\n",
        "import tensorflow as tf\n",
        "import gudhi              as gd\n",
        "from tensorflow import random_uniform_initializer as rui\n",
        "from sklearn.preprocessing import MinMaxScaler, StandardScaler"
      ],
      "execution_count": null,
      "outputs": []
    },
    {
      "cell_type": "code",
      "metadata": {
        "id": "t92ZoPTZpANK"
      },
      "source": [
        "def ripser_diagram(paciente, hom_over_p=2, hom_dimension = 1, distm = True):\n",
        "    diag = ripser(paciente, distance_matrix=distm, coeff = hom_over_p, maxdim=hom_dimension)['dgms']\n",
        "    return(diag)\n",
        "\n",
        "\n",
        "def gen_diags_dict(Dg):\n",
        "  Len = len(Dg)\n",
        "  diags_dict = {'Rips_dim_0': [],'Rips_dim_1': []}\n",
        "  ep = 0.01\n",
        "  for i in range(Len):\n",
        "    if len(Dg[i][0]) == 0:\n",
        "      diags_dict['Rips_dim_0'].append(np.array([[1,1+ep],[1.5,1.5+ep], [0.5,0.5+ep]]))\n",
        "    else:\n",
        "      diags_dict['Rips_dim_0'].append(np.array(np.append(Dg[i][0],[[1,1+ep],[1.5,1.5+ep], [0.5,0.5+ep]], axis=0)))\n",
        "    if len(Dg[i][1]) == 0:\n",
        "      diags_dict['Rips_dim_1'].append(np.array([[1,1+ep],[1.5,1.5+ep], [0.5,0.5+ep]]))\n",
        "    else:\n",
        "      diags_dict['Rips_dim_1'].append(np.array(np.append(Dg[i][1],[[1,1+ep],[1.5,1.5+ep], [0.5,0.5+ep]], axis=0)))\n",
        "  return diags_dict\n",
        "\n",
        "def diag_prepro(diags_dict, use_selector = True, use_prominent = True, thresh = 500, use_scaler = True, use_padding = True):\n",
        "  \n",
        "  # https://gudhi.inria.fr/python/3.1.0.rc1/representations.html\n",
        "  # Whole pipeline\n",
        "  tmp = Pipeline([\n",
        "          (\"Selector\",      tda.DiagramSelector(use=use_selector, point_type=\"finite\")),\n",
        "          (\"ProminentPts\",  tda.ProminentPoints(use=use_prominent, num_pts=thresh)),\n",
        "          (\"Scaler\",        tda.DiagramScaler(use=use_scaler, scalers=[([0,1], MinMaxScaler())])),\n",
        "          (\"Padding\",       tda.Padding(use=use_padding)),\n",
        "                  ])\n",
        "\n",
        "  prm = {filt: {\"ProminentPts__num_pts\": min(thresh, max([len(dgm) for dgm in diags_dict[filt]]))} \n",
        "        for filt in diags_dict.keys() if max([len(dgm) for dgm in diags_dict[filt]]) > 0}\n",
        "\n",
        "  # Apply the previous pipeline on the different filtrations.\n",
        "  diags = []\n",
        "  for dt in prm.keys():\n",
        "      param = prm[dt]\n",
        "      tmp.set_params(**param)\n",
        "      diags.append(tmp.fit_transform(diags_dict[dt]))\n",
        "\n",
        "  # For each filtration, concatenate all diagrams in a single array.\n",
        "  D, npts = [], len(diags[0])\n",
        "  for dt in range(len(prm.keys())):\n",
        "      D.append(np.array(np.concatenate([diags[dt][i][np.newaxis,:] for i in range(npts)],axis=0),dtype=np.float32))\n",
        "  \n",
        "  return D\n",
        "\n",
        "def load_architecture_params(weight, len_d, layer = \"Image\", perm_op = \"mean\"):\n",
        "  perslay_parameters = []\n",
        "  perslay_channel = {}\n",
        "\n",
        "  perslay_channel[\"pweight_train\"] = True\n",
        "  perslay_channel[\"layer_train\"]   = True\n",
        "  perslay_channel[\"final_model\"]   = tf.keras.Sequential([tf.keras.layers.Flatten()])\n",
        "\n",
        "  if layer == \"Landscape\":\n",
        "    perslay_channel[\"layer\"]           = \"Landscape\"\n",
        "    perslay_channel[\"lsample_num\"]     = 100\n",
        "    perslay_channel[\"lsample_init\"]    = rui(0.0, 1.0)\n",
        "\n",
        "  if layer == \"Image\":\n",
        "    perslay_channel[\"layer\"]           = \"Image\"\n",
        "    perslay_channel[\"image_size\"]      = (20, 20)\n",
        "    perslay_channel[\"image_bnds\"]      = ((-.001, 2.001), (-.001, 2.001))\n",
        "    perslay_channel[\"lvariance_init\"]  = 3.\n",
        "\n",
        "\n",
        "  if weight == \"gmix\":\n",
        "    perslay_channel[\"pweight\"]       = \"gmix\"\n",
        "    perslay_channel[\"pweight_num\"]   = 3\n",
        "    perslay_channel[\"pweight_init\"]  = np.array(np.vstack([np.random.uniform(0.,1.,[2,3]),\n",
        "                                                          5.*np.ones([2,3])]), dtype=np.float32)\n",
        "  if weight == \"power\":\n",
        "    perslay_channel[\"pweight\"]       = \"power\"\n",
        "    perslay_channel[\"pweight_init\"]  = 1.\n",
        "    perslay_channel[\"pweight_power\"] = 1\n",
        "\n",
        "  if weight == \"grid\":\n",
        "    perslay_channel[\"pweight\"]       = \"grid\"\n",
        "    perslay_channel[\"pweight_size\"]  = [20,20]\n",
        "    perslay_channel[\"pweight_bnds\"]  = ((-.001, 1.001), (-.001, 1.001))\n",
        "    perslay_channel[\"pweight_init\"]  = rui(1.0, 1.0)\n",
        "  \n",
        "  if weight == \"None\":\n",
        "    perslay_channel[\"pweight\"]       = None\n",
        "\n",
        "  perslay_channel[\"perm_op\"] = perm_op\n",
        "  # mean, max, sum, topk\n",
        "\n",
        "  if perm_op == \"topk\":\n",
        "    perslay_channel[\"keep\"]  = 10\n",
        "\n",
        "  perslay_parameters = [perslay_channel for _ in range(len_d)]\n",
        "\n",
        "  return perslay_parameters\n",
        "\n",
        "def vector_representations(D, perslay_parameters):\n",
        "  mirrored_strategy = tf.distribute.MirroredStrategy()\n",
        "  with mirrored_strategy.scope():\n",
        "      \n",
        "      # Final rho network is a simple dense layer to the number of labels \n",
        "      rho = tf.keras.Sequential([tf.keras.layers.Dense(2, activation=\"sigmoid\", input_shape=(800,))])\n",
        "      model = PerslayModel(name=\"PersLay\", diagdim=2, perslay_parameters=perslay_parameters, rho=rho)\n",
        "\n",
        "      # Optimizer is Adam with exponential decay of learning rate and moving average of variables\n",
        "      lr = tf.keras.optimizers.schedules.ExponentialDecay(initial_learning_rate=.01, decay_steps=20, decay_rate=0.5)\n",
        "      optimizer = tf.keras.optimizers.Adam(learning_rate=lr, epsilon=1e-4)\n",
        "      optimizer = tfa.optimizers.MovingAverage(optimizer, average_decay=0.9) \n",
        "\n",
        "      # Loss is cross-entropy\n",
        "      loss = tf.keras.losses.CategoricalCrossentropy()\n",
        "\n",
        "      # Metric is accuracy\n",
        "      metrics = [tf.keras.metrics.CategoricalAccuracy()]\n",
        "\n",
        "  vectors = model.compute_representations(D).numpy()\n",
        "  return vectors\n",
        "\n",
        "def triag_array(array):\n",
        "    return(array[np.triu_indices_from(array)])\n",
        "\n",
        "def _load_fmri(fmri_filenames):\n",
        "    \"\"\"Load time-series extracted from the fMRI using a specific atlas.\"\"\"\n",
        "    return np.array([pd.read_csv(subject_filename,\n",
        "                                 header=None).values\n",
        "                     for subject_filename in fmri_filenames])\n"
      ],
      "execution_count": null,
      "outputs": []
    },
    {
      "cell_type": "code",
      "metadata": {
        "id": "ocYciwMEttq-"
      },
      "source": [
        "class FeatureExtractor(BaseEstimator, TransformerMixin):\n",
        "\n",
        "    def __init__(self):\n",
        "        # make a transformer which will load the time series and compute the\n",
        "        # connectome matrix\n",
        "        self.transformer_fmri = make_pipeline(\n",
        "            FunctionTransformer(func=_load_fmri, validate=False),\n",
        "            ConnectivityMeasure(kind='partial correlation', vectorize=True))\n",
        "\n",
        "    def fit(self, X_df, y):\n",
        "        fmri_filenames = X_df['fmri_basc197']\n",
        "        self.transformer_fmri.fit(fmri_filenames, y)\n",
        "        return self\n",
        "\n",
        "    def transform(self, X_df):\n",
        "        fmri_filenames = X_df['fmri_basc197']\n",
        "        X_connectome = self.transformer_fmri.transform(fmri_filenames)\n",
        "        X_rips = []\n",
        "        Len = len(X_connectome)\n",
        "        for i in range(Len):\n",
        "            mat = vec_to_sym_matrix(X_connectome[i])\n",
        "            dgm = ripser_diagram(mat)\n",
        "            X_rips.append(dgm)\n",
        "        X_rips = np.nan_to_num(X_rips)\n",
        "                  \n",
        "        # get the anatomical information\n",
        "        X_anatomy = X_df[[col for col in X_df.columns\n",
        "                          if col.startswith('anatomy')]]\n",
        "        X_anatomy = X_anatomy.drop(columns='anatomy_select')\n",
        "        scaler = StandardScaler()\n",
        "        X_anatomy = scaler.fit_transform(X_anatomy)\n",
        "        \n",
        "        # get the ripser diagram\n",
        "        diags_dict = gen_diags_dict(X_rips)\n",
        "        F = np.array([[]]*Len)\n",
        "        D = diag_prepro(diags_dict, use_selector = True, use_prominent = False, thresh = 40, use_scaler = True, use_padding = True)\n",
        "        lend = len(D)\n",
        "        perslay_parameters = load_architecture_params(weight=\"None\", len_d = lend, layer= \"Image\", perm_op = \"sum\")\n",
        "        X_ripser = vector_representations(D, perslay_parameters)\n",
        "        X_ripser = np.nan_to_num(X_ripser)\n",
        "\n",
        "        # return\n",
        "        return X_anatomy, X_connectome, X_ripser"
      ],
      "execution_count": null,
      "outputs": []
    },
    {
      "cell_type": "code",
      "metadata": {
        "colab": {
          "base_uri": "https://localhost:8080/",
          "height": 314
        },
        "id": "iRebdhUJBkZy",
        "outputId": "fb596382-962b-42af-a3e0-4e9477d0e471"
      },
      "source": [
        "data_train.head()"
      ],
      "execution_count": null,
      "outputs": [
        {
          "output_type": "execute_result",
          "data": {
            "text/html": [
              "<div>\n",
              "<style scoped>\n",
              "    .dataframe tbody tr th:only-of-type {\n",
              "        vertical-align: middle;\n",
              "    }\n",
              "\n",
              "    .dataframe tbody tr th {\n",
              "        vertical-align: top;\n",
              "    }\n",
              "\n",
              "    .dataframe thead th {\n",
              "        text-align: right;\n",
              "    }\n",
              "</style>\n",
              "<table border=\"1\" class=\"dataframe\">\n",
              "  <thead>\n",
              "    <tr style=\"text-align: right;\">\n",
              "      <th></th>\n",
              "      <th>participants_site</th>\n",
              "      <th>participants_sex</th>\n",
              "      <th>participants_age</th>\n",
              "      <th>anatomy_lh_bankssts_area</th>\n",
              "      <th>anatomy_lh_caudalanteriorcingulate_area</th>\n",
              "      <th>anatomy_lh_caudalmiddlefrontal_area</th>\n",
              "      <th>anatomy_lh_cuneus_area</th>\n",
              "      <th>anatomy_lh_entorhinal_area</th>\n",
              "      <th>anatomy_lh_fusiform_area</th>\n",
              "      <th>anatomy_lh_inferiorparietal_area</th>\n",
              "      <th>anatomy_lh_inferiortemporal_area</th>\n",
              "      <th>anatomy_lh_isthmuscingulate_area</th>\n",
              "      <th>anatomy_lh_lateraloccipital_area</th>\n",
              "      <th>anatomy_lh_lateralorbitofrontal_area</th>\n",
              "      <th>anatomy_lh_lingual_area</th>\n",
              "      <th>anatomy_lh_medialorbitofrontal_area</th>\n",
              "      <th>anatomy_lh_middletemporal_area</th>\n",
              "      <th>anatomy_lh_parahippocampal_area</th>\n",
              "      <th>anatomy_lh_paracentral_area</th>\n",
              "      <th>anatomy_lh_parsopercularis_area</th>\n",
              "      <th>anatomy_lh_parsorbitalis_area</th>\n",
              "      <th>anatomy_lh_parstriangularis_area</th>\n",
              "      <th>anatomy_lh_pericalcarine_area</th>\n",
              "      <th>anatomy_lh_postcentral_area</th>\n",
              "      <th>anatomy_lh_posteriorcingulate_area</th>\n",
              "      <th>anatomy_lh_precentral_area</th>\n",
              "      <th>anatomy_lh_precuneus_area</th>\n",
              "      <th>anatomy_lh_rostralanteriorcingulate_area</th>\n",
              "      <th>anatomy_lh_rostralmiddlefrontal_area</th>\n",
              "      <th>anatomy_lh_superiorfrontal_area</th>\n",
              "      <th>anatomy_lh_superiorparietal_area</th>\n",
              "      <th>anatomy_lh_superiortemporal_area</th>\n",
              "      <th>anatomy_lh_supramarginal_area</th>\n",
              "      <th>anatomy_lh_frontalpole_area</th>\n",
              "      <th>anatomy_lh_temporalpole_area</th>\n",
              "      <th>anatomy_lh_transversetemporal_area</th>\n",
              "      <th>anatomy_lh_insula_area</th>\n",
              "      <th>anatomy_lh_WhiteSurfArea_area</th>\n",
              "      <th>anatomy_rh_bankssts_area</th>\n",
              "      <th>anatomy_rh_caudalanteriorcingulate_area</th>\n",
              "      <th>...</th>\n",
              "      <th>anatomy_Right-non-WM-hypointensities</th>\n",
              "      <th>anatomy_Optic-Chiasm</th>\n",
              "      <th>anatomy_CC_Posterior</th>\n",
              "      <th>anatomy_CC_Mid_Posterior</th>\n",
              "      <th>anatomy_CC_Central</th>\n",
              "      <th>anatomy_CC_Mid_Anterior</th>\n",
              "      <th>anatomy_CC_Anterior</th>\n",
              "      <th>anatomy_BrainSegVol</th>\n",
              "      <th>anatomy_BrainSegVolNotVentSurf</th>\n",
              "      <th>anatomy_lhCortexVol</th>\n",
              "      <th>anatomy_rhCortexVol</th>\n",
              "      <th>anatomy_CortexVol</th>\n",
              "      <th>anatomy_lhCerebralWhiteMatterVol</th>\n",
              "      <th>anatomy_rhCerebralWhiteMatterVol</th>\n",
              "      <th>anatomy_CerebralWhiteMatterVol</th>\n",
              "      <th>anatomy_SubCortGrayVol</th>\n",
              "      <th>anatomy_TotalGrayVol</th>\n",
              "      <th>anatomy_SupraTentorialVol</th>\n",
              "      <th>anatomy_SupraTentorialVolNotVent</th>\n",
              "      <th>anatomy_SupraTentorialVolNotVentVox</th>\n",
              "      <th>anatomy_MaskVol</th>\n",
              "      <th>anatomy_BrainSegVol-to-eTIV</th>\n",
              "      <th>anatomy_MaskVol-to-eTIV</th>\n",
              "      <th>anatomy_lhSurfaceHoles</th>\n",
              "      <th>anatomy_rhSurfaceHoles</th>\n",
              "      <th>anatomy_SurfaceHoles</th>\n",
              "      <th>anatomy_EstimatedTotalIntraCranialVol</th>\n",
              "      <th>anatomy_eTIV</th>\n",
              "      <th>anatomy_BrainSegVolNotVent</th>\n",
              "      <th>anatomy_select</th>\n",
              "      <th>fmri_basc064</th>\n",
              "      <th>fmri_basc122</th>\n",
              "      <th>fmri_basc197</th>\n",
              "      <th>fmri_craddock_scorr_mean</th>\n",
              "      <th>fmri_harvard_oxford_cort_prob_2mm</th>\n",
              "      <th>fmri_motions</th>\n",
              "      <th>fmri_msdl</th>\n",
              "      <th>fmri_power_2011</th>\n",
              "      <th>fmri_select</th>\n",
              "      <th>repetition_time</th>\n",
              "    </tr>\n",
              "    <tr>\n",
              "      <th>subject_id</th>\n",
              "      <th></th>\n",
              "      <th></th>\n",
              "      <th></th>\n",
              "      <th></th>\n",
              "      <th></th>\n",
              "      <th></th>\n",
              "      <th></th>\n",
              "      <th></th>\n",
              "      <th></th>\n",
              "      <th></th>\n",
              "      <th></th>\n",
              "      <th></th>\n",
              "      <th></th>\n",
              "      <th></th>\n",
              "      <th></th>\n",
              "      <th></th>\n",
              "      <th></th>\n",
              "      <th></th>\n",
              "      <th></th>\n",
              "      <th></th>\n",
              "      <th></th>\n",
              "      <th></th>\n",
              "      <th></th>\n",
              "      <th></th>\n",
              "      <th></th>\n",
              "      <th></th>\n",
              "      <th></th>\n",
              "      <th></th>\n",
              "      <th></th>\n",
              "      <th></th>\n",
              "      <th></th>\n",
              "      <th></th>\n",
              "      <th></th>\n",
              "      <th></th>\n",
              "      <th></th>\n",
              "      <th></th>\n",
              "      <th></th>\n",
              "      <th></th>\n",
              "      <th></th>\n",
              "      <th></th>\n",
              "      <th></th>\n",
              "      <th></th>\n",
              "      <th></th>\n",
              "      <th></th>\n",
              "      <th></th>\n",
              "      <th></th>\n",
              "      <th></th>\n",
              "      <th></th>\n",
              "      <th></th>\n",
              "      <th></th>\n",
              "      <th></th>\n",
              "      <th></th>\n",
              "      <th></th>\n",
              "      <th></th>\n",
              "      <th></th>\n",
              "      <th></th>\n",
              "      <th></th>\n",
              "      <th></th>\n",
              "      <th></th>\n",
              "      <th></th>\n",
              "      <th></th>\n",
              "      <th></th>\n",
              "      <th></th>\n",
              "      <th></th>\n",
              "      <th></th>\n",
              "      <th></th>\n",
              "      <th></th>\n",
              "      <th></th>\n",
              "      <th></th>\n",
              "      <th></th>\n",
              "      <th></th>\n",
              "      <th></th>\n",
              "      <th></th>\n",
              "      <th></th>\n",
              "      <th></th>\n",
              "      <th></th>\n",
              "      <th></th>\n",
              "      <th></th>\n",
              "      <th></th>\n",
              "      <th></th>\n",
              "      <th></th>\n",
              "    </tr>\n",
              "  </thead>\n",
              "  <tbody>\n",
              "    <tr>\n",
              "      <th>1932355398536124106</th>\n",
              "      <td>5</td>\n",
              "      <td>F</td>\n",
              "      <td>9.301370</td>\n",
              "      <td>977.0</td>\n",
              "      <td>427.0</td>\n",
              "      <td>1884.0</td>\n",
              "      <td>1449.0</td>\n",
              "      <td>463.0</td>\n",
              "      <td>2790.0</td>\n",
              "      <td>4091.0</td>\n",
              "      <td>3305.0</td>\n",
              "      <td>897.0</td>\n",
              "      <td>4406.0</td>\n",
              "      <td>2840.0</td>\n",
              "      <td>2571.0</td>\n",
              "      <td>1693.0</td>\n",
              "      <td>2953.0</td>\n",
              "      <td>669.0</td>\n",
              "      <td>1251.0</td>\n",
              "      <td>1508.0</td>\n",
              "      <td>615.0</td>\n",
              "      <td>1380.0</td>\n",
              "      <td>1267.0</td>\n",
              "      <td>3956.0</td>\n",
              "      <td>926.0</td>\n",
              "      <td>4490.0</td>\n",
              "      <td>4097.0</td>\n",
              "      <td>685.0</td>\n",
              "      <td>5423.0</td>\n",
              "      <td>7040.0</td>\n",
              "      <td>6391.0</td>\n",
              "      <td>3471.0</td>\n",
              "      <td>4013.0</td>\n",
              "      <td>225.0</td>\n",
              "      <td>478.0</td>\n",
              "      <td>415.0</td>\n",
              "      <td>2020.0</td>\n",
              "      <td>81059.6</td>\n",
              "      <td>850.0</td>\n",
              "      <td>534.0</td>\n",
              "      <td>...</td>\n",
              "      <td>0.0</td>\n",
              "      <td>263.7</td>\n",
              "      <td>757.6</td>\n",
              "      <td>462.6</td>\n",
              "      <td>446.1</td>\n",
              "      <td>400.8</td>\n",
              "      <td>819.5</td>\n",
              "      <td>1073332.0</td>\n",
              "      <td>1.059829e+06</td>\n",
              "      <td>262826.404548</td>\n",
              "      <td>261285.128186</td>\n",
              "      <td>524111.532734</td>\n",
              "      <td>183110.242509</td>\n",
              "      <td>181879.257294</td>\n",
              "      <td>364989.499803</td>\n",
              "      <td>53149.0</td>\n",
              "      <td>673569.532734</td>\n",
              "      <td>9.548540e+05</td>\n",
              "      <td>9.433810e+05</td>\n",
              "      <td>941139.0</td>\n",
              "      <td>1375171.0</td>\n",
              "      <td>0.840976</td>\n",
              "      <td>1.077472</td>\n",
              "      <td>30.0</td>\n",
              "      <td>31.0</td>\n",
              "      <td>61.0</td>\n",
              "      <td>1.276294e+06</td>\n",
              "      <td>1.276294e+06</td>\n",
              "      <td>1058903.0</td>\n",
              "      <td>1</td>\n",
              "      <td>./data/fmri/basc064/1932355398536124106/run_1/...</td>\n",
              "      <td>./data/fmri/basc122/1932355398536124106/run_1/...</td>\n",
              "      <td>./data/fmri/basc197/1932355398536124106/run_1/...</td>\n",
              "      <td>./data/fmri/craddock_scorr_mean/19323553985361...</td>\n",
              "      <td>./data/fmri/harvard_oxford_cort_prob_2mm/19323...</td>\n",
              "      <td>./data/fmri/motions/1932355398536124106/run_1/...</td>\n",
              "      <td>./data/fmri/msdl/1932355398536124106/run_1/193...</td>\n",
              "      <td>./data/fmri/power_2011/1932355398536124106/run...</td>\n",
              "      <td>1</td>\n",
              "      <td>2.5</td>\n",
              "    </tr>\n",
              "    <tr>\n",
              "      <th>5174041730092253771</th>\n",
              "      <td>19</td>\n",
              "      <td>M</td>\n",
              "      <td>29.000000</td>\n",
              "      <td>1279.0</td>\n",
              "      <td>730.0</td>\n",
              "      <td>2419.0</td>\n",
              "      <td>1611.0</td>\n",
              "      <td>467.0</td>\n",
              "      <td>3562.0</td>\n",
              "      <td>5380.0</td>\n",
              "      <td>3555.0</td>\n",
              "      <td>1155.0</td>\n",
              "      <td>5611.0</td>\n",
              "      <td>2867.0</td>\n",
              "      <td>3412.0</td>\n",
              "      <td>1963.0</td>\n",
              "      <td>4112.0</td>\n",
              "      <td>670.0</td>\n",
              "      <td>1545.0</td>\n",
              "      <td>2342.0</td>\n",
              "      <td>878.0</td>\n",
              "      <td>1961.0</td>\n",
              "      <td>1587.0</td>\n",
              "      <td>4288.0</td>\n",
              "      <td>1330.0</td>\n",
              "      <td>5073.0</td>\n",
              "      <td>4378.0</td>\n",
              "      <td>999.0</td>\n",
              "      <td>6376.0</td>\n",
              "      <td>7851.0</td>\n",
              "      <td>5794.0</td>\n",
              "      <td>4484.0</td>\n",
              "      <td>4689.0</td>\n",
              "      <td>249.0</td>\n",
              "      <td>490.0</td>\n",
              "      <td>448.0</td>\n",
              "      <td>2708.0</td>\n",
              "      <td>96260.5</td>\n",
              "      <td>925.0</td>\n",
              "      <td>911.0</td>\n",
              "      <td>...</td>\n",
              "      <td>0.0</td>\n",
              "      <td>163.0</td>\n",
              "      <td>902.0</td>\n",
              "      <td>603.0</td>\n",
              "      <td>527.4</td>\n",
              "      <td>507.9</td>\n",
              "      <td>1044.4</td>\n",
              "      <td>1349407.0</td>\n",
              "      <td>1.329346e+06</td>\n",
              "      <td>284683.699493</td>\n",
              "      <td>287393.006096</td>\n",
              "      <td>572076.705589</td>\n",
              "      <td>268366.061339</td>\n",
              "      <td>271307.630193</td>\n",
              "      <td>539673.691532</td>\n",
              "      <td>70140.0</td>\n",
              "      <td>759505.705589</td>\n",
              "      <td>1.199671e+06</td>\n",
              "      <td>1.183773e+06</td>\n",
              "      <td>1181796.0</td>\n",
              "      <td>1807924.0</td>\n",
              "      <td>0.771229</td>\n",
              "      <td>1.033285</td>\n",
              "      <td>45.0</td>\n",
              "      <td>54.0</td>\n",
              "      <td>99.0</td>\n",
              "      <td>1.749685e+06</td>\n",
              "      <td>1.749685e+06</td>\n",
              "      <td>1329340.0</td>\n",
              "      <td>1</td>\n",
              "      <td>./data/fmri/basc064/5174041730092253771/run_1/...</td>\n",
              "      <td>./data/fmri/basc122/5174041730092253771/run_1/...</td>\n",
              "      <td>./data/fmri/basc197/5174041730092253771/run_1/...</td>\n",
              "      <td>./data/fmri/craddock_scorr_mean/51740417300922...</td>\n",
              "      <td>./data/fmri/harvard_oxford_cort_prob_2mm/51740...</td>\n",
              "      <td>./data/fmri/motions/5174041730092253771/run_1/...</td>\n",
              "      <td>./data/fmri/msdl/5174041730092253771/run_1/517...</td>\n",
              "      <td>./data/fmri/power_2011/5174041730092253771/run...</td>\n",
              "      <td>1</td>\n",
              "      <td>3.0</td>\n",
              "    </tr>\n",
              "    <tr>\n",
              "      <th>10219322676643534800</th>\n",
              "      <td>19</td>\n",
              "      <td>F</td>\n",
              "      <td>45.000000</td>\n",
              "      <td>926.0</td>\n",
              "      <td>446.0</td>\n",
              "      <td>1897.0</td>\n",
              "      <td>2135.0</td>\n",
              "      <td>570.0</td>\n",
              "      <td>3064.0</td>\n",
              "      <td>4834.0</td>\n",
              "      <td>2602.0</td>\n",
              "      <td>1171.0</td>\n",
              "      <td>6395.0</td>\n",
              "      <td>2699.0</td>\n",
              "      <td>3850.0</td>\n",
              "      <td>2009.0</td>\n",
              "      <td>3239.0</td>\n",
              "      <td>660.0</td>\n",
              "      <td>1382.0</td>\n",
              "      <td>1831.0</td>\n",
              "      <td>859.0</td>\n",
              "      <td>1497.0</td>\n",
              "      <td>1771.0</td>\n",
              "      <td>3976.0</td>\n",
              "      <td>1156.0</td>\n",
              "      <td>4953.0</td>\n",
              "      <td>3667.0</td>\n",
              "      <td>742.0</td>\n",
              "      <td>5529.0</td>\n",
              "      <td>6239.0</td>\n",
              "      <td>5947.0</td>\n",
              "      <td>4134.0</td>\n",
              "      <td>4044.0</td>\n",
              "      <td>289.0</td>\n",
              "      <td>381.0</td>\n",
              "      <td>509.0</td>\n",
              "      <td>2331.0</td>\n",
              "      <td>87729.7</td>\n",
              "      <td>817.0</td>\n",
              "      <td>600.0</td>\n",
              "      <td>...</td>\n",
              "      <td>0.0</td>\n",
              "      <td>205.0</td>\n",
              "      <td>885.8</td>\n",
              "      <td>540.0</td>\n",
              "      <td>763.9</td>\n",
              "      <td>808.7</td>\n",
              "      <td>608.7</td>\n",
              "      <td>1088861.0</td>\n",
              "      <td>1.072526e+06</td>\n",
              "      <td>223033.559601</td>\n",
              "      <td>221342.011197</td>\n",
              "      <td>444375.570797</td>\n",
              "      <td>222784.156763</td>\n",
              "      <td>223770.442556</td>\n",
              "      <td>446554.599319</td>\n",
              "      <td>54780.0</td>\n",
              "      <td>601393.570797</td>\n",
              "      <td>9.601182e+05</td>\n",
              "      <td>9.478392e+05</td>\n",
              "      <td>945531.0</td>\n",
              "      <td>1522076.0</td>\n",
              "      <td>0.774117</td>\n",
              "      <td>1.082107</td>\n",
              "      <td>48.0</td>\n",
              "      <td>50.0</td>\n",
              "      <td>98.0</td>\n",
              "      <td>1.406585e+06</td>\n",
              "      <td>1.406585e+06</td>\n",
              "      <td>1072503.0</td>\n",
              "      <td>1</td>\n",
              "      <td>./data/fmri/basc064/10219322676643534800/run_1...</td>\n",
              "      <td>./data/fmri/basc122/10219322676643534800/run_1...</td>\n",
              "      <td>./data/fmri/basc197/10219322676643534800/run_1...</td>\n",
              "      <td>./data/fmri/craddock_scorr_mean/10219322676643...</td>\n",
              "      <td>./data/fmri/harvard_oxford_cort_prob_2mm/10219...</td>\n",
              "      <td>./data/fmri/motions/10219322676643534800/run_1...</td>\n",
              "      <td>./data/fmri/msdl/10219322676643534800/run_1/10...</td>\n",
              "      <td>./data/fmri/power_2011/10219322676643534800/ru...</td>\n",
              "      <td>1</td>\n",
              "      <td>3.0</td>\n",
              "    </tr>\n",
              "    <tr>\n",
              "      <th>10645466564919190227</th>\n",
              "      <td>5</td>\n",
              "      <td>F</td>\n",
              "      <td>9.216438</td>\n",
              "      <td>983.0</td>\n",
              "      <td>588.0</td>\n",
              "      <td>2479.0</td>\n",
              "      <td>1312.0</td>\n",
              "      <td>525.0</td>\n",
              "      <td>3766.0</td>\n",
              "      <td>5091.0</td>\n",
              "      <td>3433.0</td>\n",
              "      <td>1028.0</td>\n",
              "      <td>5405.0</td>\n",
              "      <td>3203.0</td>\n",
              "      <td>3201.0</td>\n",
              "      <td>1778.0</td>\n",
              "      <td>3318.0</td>\n",
              "      <td>723.0</td>\n",
              "      <td>1432.0</td>\n",
              "      <td>1863.0</td>\n",
              "      <td>746.0</td>\n",
              "      <td>1363.0</td>\n",
              "      <td>1164.0</td>\n",
              "      <td>4618.0</td>\n",
              "      <td>1259.0</td>\n",
              "      <td>5159.0</td>\n",
              "      <td>4274.0</td>\n",
              "      <td>798.0</td>\n",
              "      <td>5727.0</td>\n",
              "      <td>8699.0</td>\n",
              "      <td>5687.0</td>\n",
              "      <td>4536.0</td>\n",
              "      <td>4874.0</td>\n",
              "      <td>288.0</td>\n",
              "      <td>457.0</td>\n",
              "      <td>457.0</td>\n",
              "      <td>2222.0</td>\n",
              "      <td>92456.5</td>\n",
              "      <td>1050.0</td>\n",
              "      <td>659.0</td>\n",
              "      <td>...</td>\n",
              "      <td>0.0</td>\n",
              "      <td>170.1</td>\n",
              "      <td>692.2</td>\n",
              "      <td>566.3</td>\n",
              "      <td>557.2</td>\n",
              "      <td>451.3</td>\n",
              "      <td>900.2</td>\n",
              "      <td>1206352.0</td>\n",
              "      <td>1.194989e+06</td>\n",
              "      <td>304497.425261</td>\n",
              "      <td>310399.031800</td>\n",
              "      <td>614896.457060</td>\n",
              "      <td>191947.260770</td>\n",
              "      <td>193520.435643</td>\n",
              "      <td>385467.696413</td>\n",
              "      <td>59492.0</td>\n",
              "      <td>784655.457060</td>\n",
              "      <td>1.072087e+06</td>\n",
              "      <td>1.063460e+06</td>\n",
              "      <td>1059565.0</td>\n",
              "      <td>1544951.0</td>\n",
              "      <td>0.845986</td>\n",
              "      <td>1.083437</td>\n",
              "      <td>55.0</td>\n",
              "      <td>57.0</td>\n",
              "      <td>112.0</td>\n",
              "      <td>1.425972e+06</td>\n",
              "      <td>1.425972e+06</td>\n",
              "      <td>1194831.0</td>\n",
              "      <td>1</td>\n",
              "      <td>./data/fmri/basc064/10645466564919190227/run_1...</td>\n",
              "      <td>./data/fmri/basc122/10645466564919190227/run_1...</td>\n",
              "      <td>./data/fmri/basc197/10645466564919190227/run_1...</td>\n",
              "      <td>./data/fmri/craddock_scorr_mean/10645466564919...</td>\n",
              "      <td>./data/fmri/harvard_oxford_cort_prob_2mm/10645...</td>\n",
              "      <td>./data/fmri/motions/10645466564919190227/run_1...</td>\n",
              "      <td>./data/fmri/msdl/10645466564919190227/run_1/10...</td>\n",
              "      <td>./data/fmri/power_2011/10645466564919190227/ru...</td>\n",
              "      <td>1</td>\n",
              "      <td>2.5</td>\n",
              "    </tr>\n",
              "    <tr>\n",
              "      <th>14512541342641936232</th>\n",
              "      <td>28</td>\n",
              "      <td>M</td>\n",
              "      <td>15.050000</td>\n",
              "      <td>1488.0</td>\n",
              "      <td>593.0</td>\n",
              "      <td>2309.0</td>\n",
              "      <td>1829.0</td>\n",
              "      <td>726.0</td>\n",
              "      <td>3720.0</td>\n",
              "      <td>5432.0</td>\n",
              "      <td>3956.0</td>\n",
              "      <td>1033.0</td>\n",
              "      <td>5644.0</td>\n",
              "      <td>3382.0</td>\n",
              "      <td>3461.0</td>\n",
              "      <td>2119.0</td>\n",
              "      <td>3642.0</td>\n",
              "      <td>755.0</td>\n",
              "      <td>1329.0</td>\n",
              "      <td>1473.0</td>\n",
              "      <td>794.0</td>\n",
              "      <td>1301.0</td>\n",
              "      <td>1714.0</td>\n",
              "      <td>4437.0</td>\n",
              "      <td>1421.0</td>\n",
              "      <td>4761.0</td>\n",
              "      <td>4664.0</td>\n",
              "      <td>675.0</td>\n",
              "      <td>6333.0</td>\n",
              "      <td>7762.0</td>\n",
              "      <td>5916.0</td>\n",
              "      <td>4553.0</td>\n",
              "      <td>4454.0</td>\n",
              "      <td>228.0</td>\n",
              "      <td>518.0</td>\n",
              "      <td>569.0</td>\n",
              "      <td>2647.0</td>\n",
              "      <td>95626.8</td>\n",
              "      <td>1026.0</td>\n",
              "      <td>791.0</td>\n",
              "      <td>...</td>\n",
              "      <td>0.0</td>\n",
              "      <td>162.8</td>\n",
              "      <td>1119.3</td>\n",
              "      <td>598.0</td>\n",
              "      <td>951.8</td>\n",
              "      <td>1020.0</td>\n",
              "      <td>1036.6</td>\n",
              "      <td>1273829.0</td>\n",
              "      <td>1.263134e+06</td>\n",
              "      <td>296349.750294</td>\n",
              "      <td>297713.906486</td>\n",
              "      <td>594063.656780</td>\n",
              "      <td>227564.661495</td>\n",
              "      <td>227635.236838</td>\n",
              "      <td>455199.898333</td>\n",
              "      <td>63424.0</td>\n",
              "      <td>782500.656780</td>\n",
              "      <td>1.123824e+06</td>\n",
              "      <td>1.115616e+06</td>\n",
              "      <td>1112515.0</td>\n",
              "      <td>1738955.0</td>\n",
              "      <td>0.793794</td>\n",
              "      <td>1.083640</td>\n",
              "      <td>22.0</td>\n",
              "      <td>42.0</td>\n",
              "      <td>64.0</td>\n",
              "      <td>1.604735e+06</td>\n",
              "      <td>1.604735e+06</td>\n",
              "      <td>1263065.0</td>\n",
              "      <td>1</td>\n",
              "      <td>./data/fmri/basc064/14512541342641936232/run_1...</td>\n",
              "      <td>./data/fmri/basc122/14512541342641936232/run_1...</td>\n",
              "      <td>./data/fmri/basc197/14512541342641936232/run_1...</td>\n",
              "      <td>./data/fmri/craddock_scorr_mean/14512541342641...</td>\n",
              "      <td>./data/fmri/harvard_oxford_cort_prob_2mm/14512...</td>\n",
              "      <td>./data/fmri/motions/14512541342641936232/run_1...</td>\n",
              "      <td>./data/fmri/msdl/14512541342641936232/run_1/14...</td>\n",
              "      <td>./data/fmri/power_2011/14512541342641936232/ru...</td>\n",
              "      <td>1</td>\n",
              "      <td>1.0</td>\n",
              "    </tr>\n",
              "  </tbody>\n",
              "</table>\n",
              "<p>5 rows × 221 columns</p>\n",
              "</div>"
            ],
            "text/plain": [
              "                      participants_site  ... repetition_time\n",
              "subject_id                               ...                \n",
              "1932355398536124106                   5  ...             2.5\n",
              "5174041730092253771                  19  ...             3.0\n",
              "10219322676643534800                 19  ...             3.0\n",
              "10645466564919190227                  5  ...             2.5\n",
              "14512541342641936232                 28  ...             1.0\n",
              "\n",
              "[5 rows x 221 columns]"
            ]
          },
          "metadata": {},
          "execution_count": 102
        }
      ]
    },
    {
      "cell_type": "code",
      "metadata": {
        "id": "r538if2Ds1Tx"
      },
      "source": [
        "data_sub = data_train.iloc[0:30]\n",
        "labels_sub=labels_train[0:30]"
      ],
      "execution_count": null,
      "outputs": []
    },
    {
      "cell_type": "code",
      "metadata": {
        "colab": {
          "base_uri": "https://localhost:8080/"
        },
        "id": "Ye5yS-JCs7MB",
        "outputId": "223df2b7-8da5-4816-ba0a-b91fff5bae21"
      },
      "source": [
        "data_sub.shape, labels_sub.shape\n"
      ],
      "execution_count": null,
      "outputs": [
        {
          "output_type": "execute_result",
          "data": {
            "text/plain": [
              "((30, 221), (30,))"
            ]
          },
          "metadata": {},
          "execution_count": 15
        }
      ]
    },
    {
      "cell_type": "code",
      "metadata": {
        "colab": {
          "base_uri": "https://localhost:8080/",
          "height": 314
        },
        "id": "xhMsBo_ytovZ",
        "outputId": "ca32e800-f073-4835-8099-543a6df83e12"
      },
      "source": [
        "data_sub.head()"
      ],
      "execution_count": null,
      "outputs": [
        {
          "output_type": "execute_result",
          "data": {
            "text/html": [
              "<div>\n",
              "<style scoped>\n",
              "    .dataframe tbody tr th:only-of-type {\n",
              "        vertical-align: middle;\n",
              "    }\n",
              "\n",
              "    .dataframe tbody tr th {\n",
              "        vertical-align: top;\n",
              "    }\n",
              "\n",
              "    .dataframe thead th {\n",
              "        text-align: right;\n",
              "    }\n",
              "</style>\n",
              "<table border=\"1\" class=\"dataframe\">\n",
              "  <thead>\n",
              "    <tr style=\"text-align: right;\">\n",
              "      <th></th>\n",
              "      <th>participants_site</th>\n",
              "      <th>participants_sex</th>\n",
              "      <th>participants_age</th>\n",
              "      <th>anatomy_lh_bankssts_area</th>\n",
              "      <th>anatomy_lh_caudalanteriorcingulate_area</th>\n",
              "      <th>anatomy_lh_caudalmiddlefrontal_area</th>\n",
              "      <th>anatomy_lh_cuneus_area</th>\n",
              "      <th>anatomy_lh_entorhinal_area</th>\n",
              "      <th>anatomy_lh_fusiform_area</th>\n",
              "      <th>anatomy_lh_inferiorparietal_area</th>\n",
              "      <th>anatomy_lh_inferiortemporal_area</th>\n",
              "      <th>anatomy_lh_isthmuscingulate_area</th>\n",
              "      <th>anatomy_lh_lateraloccipital_area</th>\n",
              "      <th>anatomy_lh_lateralorbitofrontal_area</th>\n",
              "      <th>anatomy_lh_lingual_area</th>\n",
              "      <th>anatomy_lh_medialorbitofrontal_area</th>\n",
              "      <th>anatomy_lh_middletemporal_area</th>\n",
              "      <th>anatomy_lh_parahippocampal_area</th>\n",
              "      <th>anatomy_lh_paracentral_area</th>\n",
              "      <th>anatomy_lh_parsopercularis_area</th>\n",
              "      <th>anatomy_lh_parsorbitalis_area</th>\n",
              "      <th>anatomy_lh_parstriangularis_area</th>\n",
              "      <th>anatomy_lh_pericalcarine_area</th>\n",
              "      <th>anatomy_lh_postcentral_area</th>\n",
              "      <th>anatomy_lh_posteriorcingulate_area</th>\n",
              "      <th>anatomy_lh_precentral_area</th>\n",
              "      <th>anatomy_lh_precuneus_area</th>\n",
              "      <th>anatomy_lh_rostralanteriorcingulate_area</th>\n",
              "      <th>anatomy_lh_rostralmiddlefrontal_area</th>\n",
              "      <th>anatomy_lh_superiorfrontal_area</th>\n",
              "      <th>anatomy_lh_superiorparietal_area</th>\n",
              "      <th>anatomy_lh_superiortemporal_area</th>\n",
              "      <th>anatomy_lh_supramarginal_area</th>\n",
              "      <th>anatomy_lh_frontalpole_area</th>\n",
              "      <th>anatomy_lh_temporalpole_area</th>\n",
              "      <th>anatomy_lh_transversetemporal_area</th>\n",
              "      <th>anatomy_lh_insula_area</th>\n",
              "      <th>anatomy_lh_WhiteSurfArea_area</th>\n",
              "      <th>anatomy_rh_bankssts_area</th>\n",
              "      <th>anatomy_rh_caudalanteriorcingulate_area</th>\n",
              "      <th>...</th>\n",
              "      <th>anatomy_Right-non-WM-hypointensities</th>\n",
              "      <th>anatomy_Optic-Chiasm</th>\n",
              "      <th>anatomy_CC_Posterior</th>\n",
              "      <th>anatomy_CC_Mid_Posterior</th>\n",
              "      <th>anatomy_CC_Central</th>\n",
              "      <th>anatomy_CC_Mid_Anterior</th>\n",
              "      <th>anatomy_CC_Anterior</th>\n",
              "      <th>anatomy_BrainSegVol</th>\n",
              "      <th>anatomy_BrainSegVolNotVentSurf</th>\n",
              "      <th>anatomy_lhCortexVol</th>\n",
              "      <th>anatomy_rhCortexVol</th>\n",
              "      <th>anatomy_CortexVol</th>\n",
              "      <th>anatomy_lhCerebralWhiteMatterVol</th>\n",
              "      <th>anatomy_rhCerebralWhiteMatterVol</th>\n",
              "      <th>anatomy_CerebralWhiteMatterVol</th>\n",
              "      <th>anatomy_SubCortGrayVol</th>\n",
              "      <th>anatomy_TotalGrayVol</th>\n",
              "      <th>anatomy_SupraTentorialVol</th>\n",
              "      <th>anatomy_SupraTentorialVolNotVent</th>\n",
              "      <th>anatomy_SupraTentorialVolNotVentVox</th>\n",
              "      <th>anatomy_MaskVol</th>\n",
              "      <th>anatomy_BrainSegVol-to-eTIV</th>\n",
              "      <th>anatomy_MaskVol-to-eTIV</th>\n",
              "      <th>anatomy_lhSurfaceHoles</th>\n",
              "      <th>anatomy_rhSurfaceHoles</th>\n",
              "      <th>anatomy_SurfaceHoles</th>\n",
              "      <th>anatomy_EstimatedTotalIntraCranialVol</th>\n",
              "      <th>anatomy_eTIV</th>\n",
              "      <th>anatomy_BrainSegVolNotVent</th>\n",
              "      <th>anatomy_select</th>\n",
              "      <th>fmri_basc064</th>\n",
              "      <th>fmri_basc122</th>\n",
              "      <th>fmri_basc197</th>\n",
              "      <th>fmri_craddock_scorr_mean</th>\n",
              "      <th>fmri_harvard_oxford_cort_prob_2mm</th>\n",
              "      <th>fmri_motions</th>\n",
              "      <th>fmri_msdl</th>\n",
              "      <th>fmri_power_2011</th>\n",
              "      <th>fmri_select</th>\n",
              "      <th>repetition_time</th>\n",
              "    </tr>\n",
              "    <tr>\n",
              "      <th>subject_id</th>\n",
              "      <th></th>\n",
              "      <th></th>\n",
              "      <th></th>\n",
              "      <th></th>\n",
              "      <th></th>\n",
              "      <th></th>\n",
              "      <th></th>\n",
              "      <th></th>\n",
              "      <th></th>\n",
              "      <th></th>\n",
              "      <th></th>\n",
              "      <th></th>\n",
              "      <th></th>\n",
              "      <th></th>\n",
              "      <th></th>\n",
              "      <th></th>\n",
              "      <th></th>\n",
              "      <th></th>\n",
              "      <th></th>\n",
              "      <th></th>\n",
              "      <th></th>\n",
              "      <th></th>\n",
              "      <th></th>\n",
              "      <th></th>\n",
              "      <th></th>\n",
              "      <th></th>\n",
              "      <th></th>\n",
              "      <th></th>\n",
              "      <th></th>\n",
              "      <th></th>\n",
              "      <th></th>\n",
              "      <th></th>\n",
              "      <th></th>\n",
              "      <th></th>\n",
              "      <th></th>\n",
              "      <th></th>\n",
              "      <th></th>\n",
              "      <th></th>\n",
              "      <th></th>\n",
              "      <th></th>\n",
              "      <th></th>\n",
              "      <th></th>\n",
              "      <th></th>\n",
              "      <th></th>\n",
              "      <th></th>\n",
              "      <th></th>\n",
              "      <th></th>\n",
              "      <th></th>\n",
              "      <th></th>\n",
              "      <th></th>\n",
              "      <th></th>\n",
              "      <th></th>\n",
              "      <th></th>\n",
              "      <th></th>\n",
              "      <th></th>\n",
              "      <th></th>\n",
              "      <th></th>\n",
              "      <th></th>\n",
              "      <th></th>\n",
              "      <th></th>\n",
              "      <th></th>\n",
              "      <th></th>\n",
              "      <th></th>\n",
              "      <th></th>\n",
              "      <th></th>\n",
              "      <th></th>\n",
              "      <th></th>\n",
              "      <th></th>\n",
              "      <th></th>\n",
              "      <th></th>\n",
              "      <th></th>\n",
              "      <th></th>\n",
              "      <th></th>\n",
              "      <th></th>\n",
              "      <th></th>\n",
              "      <th></th>\n",
              "      <th></th>\n",
              "      <th></th>\n",
              "      <th></th>\n",
              "      <th></th>\n",
              "      <th></th>\n",
              "    </tr>\n",
              "  </thead>\n",
              "  <tbody>\n",
              "    <tr>\n",
              "      <th>1932355398536124106</th>\n",
              "      <td>5</td>\n",
              "      <td>F</td>\n",
              "      <td>9.301370</td>\n",
              "      <td>977.0</td>\n",
              "      <td>427.0</td>\n",
              "      <td>1884.0</td>\n",
              "      <td>1449.0</td>\n",
              "      <td>463.0</td>\n",
              "      <td>2790.0</td>\n",
              "      <td>4091.0</td>\n",
              "      <td>3305.0</td>\n",
              "      <td>897.0</td>\n",
              "      <td>4406.0</td>\n",
              "      <td>2840.0</td>\n",
              "      <td>2571.0</td>\n",
              "      <td>1693.0</td>\n",
              "      <td>2953.0</td>\n",
              "      <td>669.0</td>\n",
              "      <td>1251.0</td>\n",
              "      <td>1508.0</td>\n",
              "      <td>615.0</td>\n",
              "      <td>1380.0</td>\n",
              "      <td>1267.0</td>\n",
              "      <td>3956.0</td>\n",
              "      <td>926.0</td>\n",
              "      <td>4490.0</td>\n",
              "      <td>4097.0</td>\n",
              "      <td>685.0</td>\n",
              "      <td>5423.0</td>\n",
              "      <td>7040.0</td>\n",
              "      <td>6391.0</td>\n",
              "      <td>3471.0</td>\n",
              "      <td>4013.0</td>\n",
              "      <td>225.0</td>\n",
              "      <td>478.0</td>\n",
              "      <td>415.0</td>\n",
              "      <td>2020.0</td>\n",
              "      <td>81059.6</td>\n",
              "      <td>850.0</td>\n",
              "      <td>534.0</td>\n",
              "      <td>...</td>\n",
              "      <td>0.0</td>\n",
              "      <td>263.7</td>\n",
              "      <td>757.6</td>\n",
              "      <td>462.6</td>\n",
              "      <td>446.1</td>\n",
              "      <td>400.8</td>\n",
              "      <td>819.5</td>\n",
              "      <td>1073332.0</td>\n",
              "      <td>1.059829e+06</td>\n",
              "      <td>262826.404548</td>\n",
              "      <td>261285.128186</td>\n",
              "      <td>524111.532734</td>\n",
              "      <td>183110.242509</td>\n",
              "      <td>181879.257294</td>\n",
              "      <td>364989.499803</td>\n",
              "      <td>53149.0</td>\n",
              "      <td>673569.532734</td>\n",
              "      <td>9.548540e+05</td>\n",
              "      <td>9.433810e+05</td>\n",
              "      <td>941139.0</td>\n",
              "      <td>1375171.0</td>\n",
              "      <td>0.840976</td>\n",
              "      <td>1.077472</td>\n",
              "      <td>30.0</td>\n",
              "      <td>31.0</td>\n",
              "      <td>61.0</td>\n",
              "      <td>1.276294e+06</td>\n",
              "      <td>1.276294e+06</td>\n",
              "      <td>1058903.0</td>\n",
              "      <td>1</td>\n",
              "      <td>./data/fmri/basc064/1932355398536124106/run_1/...</td>\n",
              "      <td>./data/fmri/basc122/1932355398536124106/run_1/...</td>\n",
              "      <td>./data/fmri/basc197/1932355398536124106/run_1/...</td>\n",
              "      <td>./data/fmri/craddock_scorr_mean/19323553985361...</td>\n",
              "      <td>./data/fmri/harvard_oxford_cort_prob_2mm/19323...</td>\n",
              "      <td>./data/fmri/motions/1932355398536124106/run_1/...</td>\n",
              "      <td>./data/fmri/msdl/1932355398536124106/run_1/193...</td>\n",
              "      <td>./data/fmri/power_2011/1932355398536124106/run...</td>\n",
              "      <td>1</td>\n",
              "      <td>2.5</td>\n",
              "    </tr>\n",
              "    <tr>\n",
              "      <th>5174041730092253771</th>\n",
              "      <td>19</td>\n",
              "      <td>M</td>\n",
              "      <td>29.000000</td>\n",
              "      <td>1279.0</td>\n",
              "      <td>730.0</td>\n",
              "      <td>2419.0</td>\n",
              "      <td>1611.0</td>\n",
              "      <td>467.0</td>\n",
              "      <td>3562.0</td>\n",
              "      <td>5380.0</td>\n",
              "      <td>3555.0</td>\n",
              "      <td>1155.0</td>\n",
              "      <td>5611.0</td>\n",
              "      <td>2867.0</td>\n",
              "      <td>3412.0</td>\n",
              "      <td>1963.0</td>\n",
              "      <td>4112.0</td>\n",
              "      <td>670.0</td>\n",
              "      <td>1545.0</td>\n",
              "      <td>2342.0</td>\n",
              "      <td>878.0</td>\n",
              "      <td>1961.0</td>\n",
              "      <td>1587.0</td>\n",
              "      <td>4288.0</td>\n",
              "      <td>1330.0</td>\n",
              "      <td>5073.0</td>\n",
              "      <td>4378.0</td>\n",
              "      <td>999.0</td>\n",
              "      <td>6376.0</td>\n",
              "      <td>7851.0</td>\n",
              "      <td>5794.0</td>\n",
              "      <td>4484.0</td>\n",
              "      <td>4689.0</td>\n",
              "      <td>249.0</td>\n",
              "      <td>490.0</td>\n",
              "      <td>448.0</td>\n",
              "      <td>2708.0</td>\n",
              "      <td>96260.5</td>\n",
              "      <td>925.0</td>\n",
              "      <td>911.0</td>\n",
              "      <td>...</td>\n",
              "      <td>0.0</td>\n",
              "      <td>163.0</td>\n",
              "      <td>902.0</td>\n",
              "      <td>603.0</td>\n",
              "      <td>527.4</td>\n",
              "      <td>507.9</td>\n",
              "      <td>1044.4</td>\n",
              "      <td>1349407.0</td>\n",
              "      <td>1.329346e+06</td>\n",
              "      <td>284683.699493</td>\n",
              "      <td>287393.006096</td>\n",
              "      <td>572076.705589</td>\n",
              "      <td>268366.061339</td>\n",
              "      <td>271307.630193</td>\n",
              "      <td>539673.691532</td>\n",
              "      <td>70140.0</td>\n",
              "      <td>759505.705589</td>\n",
              "      <td>1.199671e+06</td>\n",
              "      <td>1.183773e+06</td>\n",
              "      <td>1181796.0</td>\n",
              "      <td>1807924.0</td>\n",
              "      <td>0.771229</td>\n",
              "      <td>1.033285</td>\n",
              "      <td>45.0</td>\n",
              "      <td>54.0</td>\n",
              "      <td>99.0</td>\n",
              "      <td>1.749685e+06</td>\n",
              "      <td>1.749685e+06</td>\n",
              "      <td>1329340.0</td>\n",
              "      <td>1</td>\n",
              "      <td>./data/fmri/basc064/5174041730092253771/run_1/...</td>\n",
              "      <td>./data/fmri/basc122/5174041730092253771/run_1/...</td>\n",
              "      <td>./data/fmri/basc197/5174041730092253771/run_1/...</td>\n",
              "      <td>./data/fmri/craddock_scorr_mean/51740417300922...</td>\n",
              "      <td>./data/fmri/harvard_oxford_cort_prob_2mm/51740...</td>\n",
              "      <td>./data/fmri/motions/5174041730092253771/run_1/...</td>\n",
              "      <td>./data/fmri/msdl/5174041730092253771/run_1/517...</td>\n",
              "      <td>./data/fmri/power_2011/5174041730092253771/run...</td>\n",
              "      <td>1</td>\n",
              "      <td>3.0</td>\n",
              "    </tr>\n",
              "    <tr>\n",
              "      <th>10219322676643534800</th>\n",
              "      <td>19</td>\n",
              "      <td>F</td>\n",
              "      <td>45.000000</td>\n",
              "      <td>926.0</td>\n",
              "      <td>446.0</td>\n",
              "      <td>1897.0</td>\n",
              "      <td>2135.0</td>\n",
              "      <td>570.0</td>\n",
              "      <td>3064.0</td>\n",
              "      <td>4834.0</td>\n",
              "      <td>2602.0</td>\n",
              "      <td>1171.0</td>\n",
              "      <td>6395.0</td>\n",
              "      <td>2699.0</td>\n",
              "      <td>3850.0</td>\n",
              "      <td>2009.0</td>\n",
              "      <td>3239.0</td>\n",
              "      <td>660.0</td>\n",
              "      <td>1382.0</td>\n",
              "      <td>1831.0</td>\n",
              "      <td>859.0</td>\n",
              "      <td>1497.0</td>\n",
              "      <td>1771.0</td>\n",
              "      <td>3976.0</td>\n",
              "      <td>1156.0</td>\n",
              "      <td>4953.0</td>\n",
              "      <td>3667.0</td>\n",
              "      <td>742.0</td>\n",
              "      <td>5529.0</td>\n",
              "      <td>6239.0</td>\n",
              "      <td>5947.0</td>\n",
              "      <td>4134.0</td>\n",
              "      <td>4044.0</td>\n",
              "      <td>289.0</td>\n",
              "      <td>381.0</td>\n",
              "      <td>509.0</td>\n",
              "      <td>2331.0</td>\n",
              "      <td>87729.7</td>\n",
              "      <td>817.0</td>\n",
              "      <td>600.0</td>\n",
              "      <td>...</td>\n",
              "      <td>0.0</td>\n",
              "      <td>205.0</td>\n",
              "      <td>885.8</td>\n",
              "      <td>540.0</td>\n",
              "      <td>763.9</td>\n",
              "      <td>808.7</td>\n",
              "      <td>608.7</td>\n",
              "      <td>1088861.0</td>\n",
              "      <td>1.072526e+06</td>\n",
              "      <td>223033.559601</td>\n",
              "      <td>221342.011197</td>\n",
              "      <td>444375.570797</td>\n",
              "      <td>222784.156763</td>\n",
              "      <td>223770.442556</td>\n",
              "      <td>446554.599319</td>\n",
              "      <td>54780.0</td>\n",
              "      <td>601393.570797</td>\n",
              "      <td>9.601182e+05</td>\n",
              "      <td>9.478392e+05</td>\n",
              "      <td>945531.0</td>\n",
              "      <td>1522076.0</td>\n",
              "      <td>0.774117</td>\n",
              "      <td>1.082107</td>\n",
              "      <td>48.0</td>\n",
              "      <td>50.0</td>\n",
              "      <td>98.0</td>\n",
              "      <td>1.406585e+06</td>\n",
              "      <td>1.406585e+06</td>\n",
              "      <td>1072503.0</td>\n",
              "      <td>1</td>\n",
              "      <td>./data/fmri/basc064/10219322676643534800/run_1...</td>\n",
              "      <td>./data/fmri/basc122/10219322676643534800/run_1...</td>\n",
              "      <td>./data/fmri/basc197/10219322676643534800/run_1...</td>\n",
              "      <td>./data/fmri/craddock_scorr_mean/10219322676643...</td>\n",
              "      <td>./data/fmri/harvard_oxford_cort_prob_2mm/10219...</td>\n",
              "      <td>./data/fmri/motions/10219322676643534800/run_1...</td>\n",
              "      <td>./data/fmri/msdl/10219322676643534800/run_1/10...</td>\n",
              "      <td>./data/fmri/power_2011/10219322676643534800/ru...</td>\n",
              "      <td>1</td>\n",
              "      <td>3.0</td>\n",
              "    </tr>\n",
              "    <tr>\n",
              "      <th>10645466564919190227</th>\n",
              "      <td>5</td>\n",
              "      <td>F</td>\n",
              "      <td>9.216438</td>\n",
              "      <td>983.0</td>\n",
              "      <td>588.0</td>\n",
              "      <td>2479.0</td>\n",
              "      <td>1312.0</td>\n",
              "      <td>525.0</td>\n",
              "      <td>3766.0</td>\n",
              "      <td>5091.0</td>\n",
              "      <td>3433.0</td>\n",
              "      <td>1028.0</td>\n",
              "      <td>5405.0</td>\n",
              "      <td>3203.0</td>\n",
              "      <td>3201.0</td>\n",
              "      <td>1778.0</td>\n",
              "      <td>3318.0</td>\n",
              "      <td>723.0</td>\n",
              "      <td>1432.0</td>\n",
              "      <td>1863.0</td>\n",
              "      <td>746.0</td>\n",
              "      <td>1363.0</td>\n",
              "      <td>1164.0</td>\n",
              "      <td>4618.0</td>\n",
              "      <td>1259.0</td>\n",
              "      <td>5159.0</td>\n",
              "      <td>4274.0</td>\n",
              "      <td>798.0</td>\n",
              "      <td>5727.0</td>\n",
              "      <td>8699.0</td>\n",
              "      <td>5687.0</td>\n",
              "      <td>4536.0</td>\n",
              "      <td>4874.0</td>\n",
              "      <td>288.0</td>\n",
              "      <td>457.0</td>\n",
              "      <td>457.0</td>\n",
              "      <td>2222.0</td>\n",
              "      <td>92456.5</td>\n",
              "      <td>1050.0</td>\n",
              "      <td>659.0</td>\n",
              "      <td>...</td>\n",
              "      <td>0.0</td>\n",
              "      <td>170.1</td>\n",
              "      <td>692.2</td>\n",
              "      <td>566.3</td>\n",
              "      <td>557.2</td>\n",
              "      <td>451.3</td>\n",
              "      <td>900.2</td>\n",
              "      <td>1206352.0</td>\n",
              "      <td>1.194989e+06</td>\n",
              "      <td>304497.425261</td>\n",
              "      <td>310399.031800</td>\n",
              "      <td>614896.457060</td>\n",
              "      <td>191947.260770</td>\n",
              "      <td>193520.435643</td>\n",
              "      <td>385467.696413</td>\n",
              "      <td>59492.0</td>\n",
              "      <td>784655.457060</td>\n",
              "      <td>1.072087e+06</td>\n",
              "      <td>1.063460e+06</td>\n",
              "      <td>1059565.0</td>\n",
              "      <td>1544951.0</td>\n",
              "      <td>0.845986</td>\n",
              "      <td>1.083437</td>\n",
              "      <td>55.0</td>\n",
              "      <td>57.0</td>\n",
              "      <td>112.0</td>\n",
              "      <td>1.425972e+06</td>\n",
              "      <td>1.425972e+06</td>\n",
              "      <td>1194831.0</td>\n",
              "      <td>1</td>\n",
              "      <td>./data/fmri/basc064/10645466564919190227/run_1...</td>\n",
              "      <td>./data/fmri/basc122/10645466564919190227/run_1...</td>\n",
              "      <td>./data/fmri/basc197/10645466564919190227/run_1...</td>\n",
              "      <td>./data/fmri/craddock_scorr_mean/10645466564919...</td>\n",
              "      <td>./data/fmri/harvard_oxford_cort_prob_2mm/10645...</td>\n",
              "      <td>./data/fmri/motions/10645466564919190227/run_1...</td>\n",
              "      <td>./data/fmri/msdl/10645466564919190227/run_1/10...</td>\n",
              "      <td>./data/fmri/power_2011/10645466564919190227/ru...</td>\n",
              "      <td>1</td>\n",
              "      <td>2.5</td>\n",
              "    </tr>\n",
              "    <tr>\n",
              "      <th>14512541342641936232</th>\n",
              "      <td>28</td>\n",
              "      <td>M</td>\n",
              "      <td>15.050000</td>\n",
              "      <td>1488.0</td>\n",
              "      <td>593.0</td>\n",
              "      <td>2309.0</td>\n",
              "      <td>1829.0</td>\n",
              "      <td>726.0</td>\n",
              "      <td>3720.0</td>\n",
              "      <td>5432.0</td>\n",
              "      <td>3956.0</td>\n",
              "      <td>1033.0</td>\n",
              "      <td>5644.0</td>\n",
              "      <td>3382.0</td>\n",
              "      <td>3461.0</td>\n",
              "      <td>2119.0</td>\n",
              "      <td>3642.0</td>\n",
              "      <td>755.0</td>\n",
              "      <td>1329.0</td>\n",
              "      <td>1473.0</td>\n",
              "      <td>794.0</td>\n",
              "      <td>1301.0</td>\n",
              "      <td>1714.0</td>\n",
              "      <td>4437.0</td>\n",
              "      <td>1421.0</td>\n",
              "      <td>4761.0</td>\n",
              "      <td>4664.0</td>\n",
              "      <td>675.0</td>\n",
              "      <td>6333.0</td>\n",
              "      <td>7762.0</td>\n",
              "      <td>5916.0</td>\n",
              "      <td>4553.0</td>\n",
              "      <td>4454.0</td>\n",
              "      <td>228.0</td>\n",
              "      <td>518.0</td>\n",
              "      <td>569.0</td>\n",
              "      <td>2647.0</td>\n",
              "      <td>95626.8</td>\n",
              "      <td>1026.0</td>\n",
              "      <td>791.0</td>\n",
              "      <td>...</td>\n",
              "      <td>0.0</td>\n",
              "      <td>162.8</td>\n",
              "      <td>1119.3</td>\n",
              "      <td>598.0</td>\n",
              "      <td>951.8</td>\n",
              "      <td>1020.0</td>\n",
              "      <td>1036.6</td>\n",
              "      <td>1273829.0</td>\n",
              "      <td>1.263134e+06</td>\n",
              "      <td>296349.750294</td>\n",
              "      <td>297713.906486</td>\n",
              "      <td>594063.656780</td>\n",
              "      <td>227564.661495</td>\n",
              "      <td>227635.236838</td>\n",
              "      <td>455199.898333</td>\n",
              "      <td>63424.0</td>\n",
              "      <td>782500.656780</td>\n",
              "      <td>1.123824e+06</td>\n",
              "      <td>1.115616e+06</td>\n",
              "      <td>1112515.0</td>\n",
              "      <td>1738955.0</td>\n",
              "      <td>0.793794</td>\n",
              "      <td>1.083640</td>\n",
              "      <td>22.0</td>\n",
              "      <td>42.0</td>\n",
              "      <td>64.0</td>\n",
              "      <td>1.604735e+06</td>\n",
              "      <td>1.604735e+06</td>\n",
              "      <td>1263065.0</td>\n",
              "      <td>1</td>\n",
              "      <td>./data/fmri/basc064/14512541342641936232/run_1...</td>\n",
              "      <td>./data/fmri/basc122/14512541342641936232/run_1...</td>\n",
              "      <td>./data/fmri/basc197/14512541342641936232/run_1...</td>\n",
              "      <td>./data/fmri/craddock_scorr_mean/14512541342641...</td>\n",
              "      <td>./data/fmri/harvard_oxford_cort_prob_2mm/14512...</td>\n",
              "      <td>./data/fmri/motions/14512541342641936232/run_1...</td>\n",
              "      <td>./data/fmri/msdl/14512541342641936232/run_1/14...</td>\n",
              "      <td>./data/fmri/power_2011/14512541342641936232/ru...</td>\n",
              "      <td>1</td>\n",
              "      <td>1.0</td>\n",
              "    </tr>\n",
              "  </tbody>\n",
              "</table>\n",
              "<p>5 rows × 221 columns</p>\n",
              "</div>"
            ],
            "text/plain": [
              "                      participants_site  ... repetition_time\n",
              "subject_id                               ...                \n",
              "1932355398536124106                   5  ...             2.5\n",
              "5174041730092253771                  19  ...             3.0\n",
              "10219322676643534800                 19  ...             3.0\n",
              "10645466564919190227                  5  ...             2.5\n",
              "14512541342641936232                 28  ...             1.0\n",
              "\n",
              "[5 rows x 221 columns]"
            ]
          },
          "metadata": {},
          "execution_count": 17
        }
      ]
    },
    {
      "cell_type": "markdown",
      "metadata": {
        "id": "Sl6HssUfo8s_"
      },
      "source": [
        "## Data"
      ]
    },
    {
      "cell_type": "code",
      "metadata": {
        "id": "oFmpAOEhoqHG"
      },
      "source": [
        "# Generar 3 arrays de np\n",
        "# El primero que tenga los datos anatómicos\n",
        "# El segundo las matrices diagonalizadas\n",
        "# El tercero los diagramas diagonalizados\n",
        "# Guardarlos para que sean de fácil acceso"
      ],
      "execution_count": null,
      "outputs": []
    },
    {
      "cell_type": "code",
      "metadata": {
        "id": "kMg9n-l1WiFX"
      },
      "source": [
        "data_train, labels_train = get_train_data()"
      ],
      "execution_count": null,
      "outputs": []
    },
    {
      "cell_type": "code",
      "metadata": {
        "colab": {
          "base_uri": "https://localhost:8080/"
        },
        "id": "zszCiSARo5Xf",
        "outputId": "5cdc665d-cb8a-4d14-f780-0f8c55880fc3"
      },
      "source": [
        "feat_ext = FeatureExtractor()\n",
        "feat_ext.fit(data_train, labels_train)"
      ],
      "execution_count": null,
      "outputs": [
        {
          "output_type": "execute_result",
          "data": {
            "text/plain": [
              "FeatureExtractor()"
            ]
          },
          "metadata": {},
          "execution_count": 6
        }
      ]
    },
    {
      "cell_type": "code",
      "metadata": {
        "id": "GdMOwL4xvbf6"
      },
      "source": [
        "X_anatomy, X_connectome, X_ripser = feat_ext.transform(data_train)"
      ],
      "execution_count": null,
      "outputs": []
    },
    {
      "cell_type": "code",
      "metadata": {
        "colab": {
          "base_uri": "https://localhost:8080/"
        },
        "id": "WVMkSg7pua56",
        "outputId": "08d5b900-5760-4198-ebb8-c8e05f62165f"
      },
      "source": [
        "X_anatomy.shape, X_connectome.shape, X_ripser.shape"
      ],
      "execution_count": null,
      "outputs": [
        {
          "output_type": "execute_result",
          "data": {
            "text/plain": [
              "((1127, 207), (1127, 19503), (1127, 800))"
            ]
          },
          "metadata": {},
          "execution_count": 8
        }
      ]
    },
    {
      "cell_type": "code",
      "metadata": {
        "id": "__rH_X_sT-b_"
      },
      "source": [
        "import pickle"
      ],
      "execution_count": null,
      "outputs": []
    },
    {
      "cell_type": "code",
      "metadata": {
        "id": "ohAtxl9gYr-7"
      },
      "source": [
        "with open('results/X_anatomy.pkl', 'wb') as handle:\n",
        "    pickle.dump(X_anatomy, handle, protocol=pickle.HIGHEST_PROTOCOL)\n",
        "\n",
        "with open('results/X_connectome.pkl', 'wb') as handle:\n",
        "    pickle.dump(X_connectome, handle, protocol=pickle.HIGHEST_PROTOCOL)\n",
        "\n",
        "with open('results/X_ripser.pkl', 'wb') as handle:\n",
        "    pickle.dump(X_ripser, handle, protocol=pickle.HIGHEST_PROTOCOL)"
      ],
      "execution_count": null,
      "outputs": []
    },
    {
      "cell_type": "code",
      "metadata": {
        "id": "HBNGpFHAU0OG"
      },
      "source": [
        "        # get the anatomical information\n",
        "        X_anatomy = data_train[[col for col in data_train.columns\n",
        "                          if col.startswith('anatomy')]]\n",
        "        X_anatomy = X_anatomy.drop(columns='anatomy_select')\n",
        "        scaler = StandardScaler()\n",
        "        X_anatomy = scaler.fit_transform(X_anatomy)"
      ],
      "execution_count": null,
      "outputs": []
    },
    {
      "cell_type": "code",
      "metadata": {
        "id": "jQcDqAE8UHUP"
      },
      "source": [
        "with open('results/X_ripser.pkl', 'rb') as f:\n",
        "    X_ripser = pickle.load(f)\n",
        "\n",
        "#with open('results/X_anatomy.pkl', 'rb') as g:\n",
        "#    X_anatomy = pickle.load(g)\n",
        "\n",
        "with open('results/X_connectome.pkl', 'rb') as h:\n",
        "    X_connectome = pickle.load(h)"
      ],
      "execution_count": null,
      "outputs": []
    },
    {
      "cell_type": "code",
      "metadata": {
        "colab": {
          "base_uri": "https://localhost:8080/"
        },
        "id": "5AAweV4zTxGP",
        "outputId": "e9260229-8a6b-4822-bd4b-bea67ac5722f"
      },
      "source": [
        "X_anatomy.shape, X_connectome.shape, X_ripser.shape"
      ],
      "execution_count": null,
      "outputs": [
        {
          "output_type": "execute_result",
          "data": {
            "text/plain": [
              "((1127, 207), (1127, 19503), (1127, 800))"
            ]
          },
          "metadata": {},
          "execution_count": 15
        }
      ]
    },
    {
      "cell_type": "markdown",
      "metadata": {
        "id": "Rd1rKG67o6ZH"
      },
      "source": [
        "## Modelos"
      ]
    },
    {
      "cell_type": "code",
      "metadata": {
        "id": "SOmXm7fAwRHj"
      },
      "source": [
        "#For i in range(N):\n",
        "#  shuffle labels\n",
        "#  for fold in num-folds:\n",
        "#    train model M (matrices)\n",
        "#    train model D (diagramas)\n",
        "#    predict M, D\n",
        "#    return metrics(D)-metrics(M)\n",
        "\n",
        "# comparar con el modelo corrido sobre las labels reales."
      ],
      "execution_count": null,
      "outputs": []
    },
    {
      "cell_type": "code",
      "metadata": {
        "id": "g63T2yNir8Df"
      },
      "source": [
        "from xgboost import XGBClassifier\n",
        "from sklearn.ensemble import RandomForestClassifier\n",
        "class Classifier(BaseEstimator):\n",
        "    def __init__(self, est = 'RF'):\n",
        "      #XGBClassifier()\n",
        "      #RandomForestClassifier(n_estimators = 300)\n",
        "      self.clf_ripser = make_pipeline(StandardScaler(), RandomForestClassifier(n_estimators = 300))\n",
        "    def fit(self, X, y):\n",
        "        self.clf_ripser.fit(X, y)\n",
        "        return self\n",
        "    def predict(self, X):\n",
        "        return self.clf_ripser.predict(X)\n",
        "    def predict_proba(self, X):\n",
        "        return self.clf_ripser.predict_proba(X)\n",
        "\n",
        "def get_cv(X, y):\n",
        "    cv = StratifiedShuffleSplit(n_splits=5, test_size=None, random_state=42)\n",
        "    return cv.split(X, y)\n",
        "\n",
        "def evaluation(X, y):\n",
        "    pipe = make_pipeline(Classifier(est='RF'))\n",
        "    cv = get_cv(X, y)\n",
        "    results = cross_validate(pipe, X, y, scoring=['roc_auc', 'accuracy', 'precision', 'recall'], cv=cv,\n",
        "                             verbose=3, return_train_score=True,\n",
        "                             n_jobs=-1)\n",
        "    \n",
        "    return results"
      ],
      "execution_count": null,
      "outputs": []
    },
    {
      "cell_type": "code",
      "metadata": {
        "colab": {
          "base_uri": "https://localhost:8080/"
        },
        "id": "q0bhBVL4umxp",
        "outputId": "19dc94bf-f7db-4922-abf9-17fe0a7713bd"
      },
      "source": [
        "X1 = np.concatenate((X_anatomy, X_ripser), axis=1)\n",
        "X1.shape"
      ],
      "execution_count": null,
      "outputs": [
        {
          "output_type": "execute_result",
          "data": {
            "text/plain": [
              "(30, 1007)"
            ]
          },
          "metadata": {},
          "execution_count": 117
        }
      ]
    },
    {
      "cell_type": "code",
      "metadata": {
        "colab": {
          "base_uri": "https://localhost:8080/"
        },
        "id": "ku7CPbwuulGC",
        "outputId": "94022c67-3e13-4a87-ab4b-2f1f9ad35fe7"
      },
      "source": [
        "from sklearn.model_selection import StratifiedShuffleSplit\n",
        "results=evaluation(X1,labels_sub)\n",
        "print(\"ROC-AUC: {:.3f} +- {:.3f}\".format(np.mean(results['test_roc_auc']), np.std(results['test_roc_auc'])))\n",
        "print(\"accuracy: {:.3f} +- {:.3f}\".format(np.mean(results['test_accuracy']), np.std(results['test_accuracy'])))\n",
        "print(\"precision: {:.3f} +- {:.3f}\".format(np.mean(results['test_precision']), np.std(results['test_precision'])))\n",
        "print(\"recall: {:.3f} +- {:.3f}\".format(np.mean(results['test_recall']), np.std(results['test_recall'])))"
      ],
      "execution_count": null,
      "outputs": [
        {
          "output_type": "stream",
          "name": "stderr",
          "text": [
            "[Parallel(n_jobs=-1)]: Using backend LokyBackend with 2 concurrent workers.\n",
            "/usr/local/lib/python3.7/dist-packages/sklearn/base.py:197: FutureWarning: From version 0.24, get_params will raise an AttributeError if a parameter cannot be retrieved as an instance attribute. Previously it would return None.\n",
            "  FutureWarning)\n"
          ]
        },
        {
          "output_type": "stream",
          "name": "stdout",
          "text": [
            "ROC-AUC: 0.000 +- 0.000\n",
            "accuracy: 0.556 +- 0.157\n",
            "precision: 0.000 +- 0.000\n",
            "recall: 0.000 +- 0.000\n"
          ]
        },
        {
          "output_type": "stream",
          "name": "stderr",
          "text": [
            "[Parallel(n_jobs=-1)]: Done   3 out of   3 | elapsed:    0.4s finished\n"
          ]
        }
      ]
    },
    {
      "cell_type": "code",
      "metadata": {
        "id": "wPsZNlL7a2nk"
      },
      "source": [
        "from sklearn.model_selection import StratifiedShuffleSplit"
      ],
      "execution_count": null,
      "outputs": []
    },
    {
      "cell_type": "code",
      "metadata": {
        "id": "3yorfkbcXqE7"
      },
      "source": [
        "import pickle\n",
        "import random\n",
        "import matplotlib.pyplot as plt\n"
      ],
      "execution_count": null,
      "outputs": []
    },
    {
      "cell_type": "code",
      "metadata": {
        "id": "2FijuP_VWFY1"
      },
      "source": [
        "with open('results_conn_list.pkl', 'rb') as f:\n",
        "    results_conn_list = pickle.load(f)\n",
        "\n",
        "with open('results_rips_list.pkl', 'rb') as f:\n",
        "    results_rips_list = pickle.load(f)"
      ],
      "execution_count": null,
      "outputs": []
    },
    {
      "cell_type": "code",
      "metadata": {
        "id": "M6H_OLiGC588"
      },
      "source": [
        "X_anatomy_connectome = np.concatenate((X_anatomy, X_connectome), axis=1)\n",
        "X_anatomy_ripser = np.concatenate((X_anatomy, X_ripser), axis=1)\n",
        "\n",
        "results_conn_list = []\n",
        "results_rips_list = []\n",
        "\n",
        "results_only_anatomy = []\n",
        "results_anatomy_rips = []\n",
        "\n",
        "label_shuffle = list(labels_train)\n",
        "\n",
        "reps = 500  "
      ],
      "execution_count": null,
      "outputs": []
    },
    {
      "cell_type": "code",
      "metadata": {
        "id": "musM6g10dBrU"
      },
      "source": [
        "#with open('results_conn_list.pkl', 'wb') as handle:\n",
        "#    pickle.dump(results_conn_list, handle, protocol=pickle.HIGHEST_PROTOCOL)\n",
        "#with open('results_rips_list.pkl', 'wb') as handle:\n",
        "#    pickle.dump(results_rips_list, handle, protocol=pickle.HIGHEST_PROTOCOL)\n",
        "\n",
        "with open('results_only_anatomy.pkl', 'wb') as handle:\n",
        "    pickle.dump(results_only_anatomy, handle, protocol=pickle.HIGHEST_PROTOCOL)\n",
        "with open('results_anatomy_rips.pkl', 'wb') as handle:\n",
        "    pickle.dump(results_anatomy_rips, handle, protocol=pickle.HIGHEST_PROTOCOL)"
      ],
      "execution_count": null,
      "outputs": []
    },
    {
      "cell_type": "code",
      "metadata": {
        "id": "-PEiWpZCYiCI"
      },
      "source": [
        "with open('results_only_anatomy.pkl', 'rb') as f:\n",
        "    results_only_anatomy = pickle.load(f)\n",
        "\n",
        "with open('results_anatomy_rips.pkl', 'rb') as f:\n",
        "    results_anatomy_rips = pickle.load(f)"
      ],
      "execution_count": null,
      "outputs": []
    },
    {
      "cell_type": "code",
      "metadata": {
        "id": "KLmncAd5Hy9X"
      },
      "source": [
        "for i in range(152,reps):\n",
        "  label_shuffle = random.sample(label_shuffle, len(label_shuffle))\n",
        "  results_conn = evaluation(X_anatomy,label_shuffle)\n",
        "  results_only_anatomy.append({'type': 'only_anatomy', \n",
        "                            'mean_roc': np.mean(results_conn['test_roc_auc']),\n",
        "                            'mean_acc': np.mean(results_conn['test_accuracy']),\n",
        "                            'mean_pre': np.mean(results_conn['test_precision']), \n",
        "                            'mean_rec': np.mean(results_conn['test_recall']), \n",
        "                            'sd_roc': np.std(results_conn['test_roc_auc']),\n",
        "                            'sd_acc': np.std(results_conn['test_accuracy']), \n",
        "                            'sd_pre': np.std(results_conn['test_precision']), \n",
        "                            'sd_rec': np.std(results_conn['test_recall'])}\n",
        "                          )\n",
        "\n",
        "  results_rips = evaluation(X_anatomy_ripser,label_shuffle)\n",
        "  results_anatomy_rips.append({'type': 'anatomy_rips', \n",
        "                            'mean_roc': np.mean(results_rips['test_roc_auc']),\n",
        "                            'mean_acc': np.mean(results_rips['test_accuracy']),\n",
        "                            'mean_pre': np.mean(results_rips['test_precision']), \n",
        "                            'mean_rec': np.mean(results_rips['test_recall']), \n",
        "                            'sd_roc': np.std(results_rips['test_roc_auc']),\n",
        "                            'sd_acc': np.std(results_rips['test_accuracy']), \n",
        "                            'sd_pre': np.std(results_rips['test_precision']), \n",
        "                            'sd_rec': np.std(results_rips['test_recall'])}\n",
        "                          )\n",
        "  print(i)\n",
        "  if i%10==0:\n",
        "    with open('results_only_anatomy.pkl', 'wb') as handle:\n",
        "      pickle.dump(results_only_anatomy, handle, protocol=pickle.HIGHEST_PROTOCOL)\n",
        "    with open('results_anatomy_rips.pkl', 'wb') as handle:\n",
        "      pickle.dump(results_anatomy_rips, handle, protocol=pickle.HIGHEST_PROTOCOL)\n",
        "\n",
        "\n"
      ],
      "execution_count": null,
      "outputs": []
    },
    {
      "cell_type": "code",
      "metadata": {
        "id": "AnnVGGcUVfH4"
      },
      "source": [
        "#230 hice con rips+anatomy vs anatomy"
      ],
      "execution_count": null,
      "outputs": []
    },
    {
      "cell_type": "code",
      "metadata": {
        "id": "Ju8jw1Jg-NMN"
      },
      "source": [
        "means_conn = [i['mean_acc'] for i in results_only_anatomy]\n",
        "means_rips = [i['mean_acc'] for i in results_anatomy_rips]"
      ],
      "execution_count": null,
      "outputs": []
    },
    {
      "cell_type": "code",
      "metadata": {
        "colab": {
          "base_uri": "https://localhost:8080/",
          "height": 282
        },
        "id": "1el_9fkZ-jAc",
        "outputId": "5e74ba40-5a7f-4e1e-c076-7ed08d5a81a1"
      },
      "source": [
        "means_diff = np.array(means_conn)-np.array(means_rips)\n",
        "plt.hist(means_diff, bins=60)\n",
        "plt.plot()"
      ],
      "execution_count": null,
      "outputs": [
        {
          "output_type": "execute_result",
          "data": {
            "text/plain": [
              "[]"
            ]
          },
          "metadata": {},
          "execution_count": 46
        },
        {
          "output_type": "display_data",
          "data": {
            "image/png": "[encoded data removed]",
            "text/plain": [
              "<Figure size 432x288 with 1 Axes>"
            ]
          },
          "metadata": {
            "needs_background": "light"
          }
        }
      ]
    },
    {
      "cell_type": "code",
      "metadata": {
        "colab": {
          "base_uri": "https://localhost:8080/",
          "height": 282
        },
        "id": "ODJAPtZR-jYB",
        "outputId": "ae9f2d3b-1dda-4768-d9cc-962ccc55b027"
      },
      "source": [
        "plt.hist(means_conn, bins=30)\n",
        "plt.plot()\n",
        "np.mean(means_conn)"
      ],
      "execution_count": null,
      "outputs": [
        {
          "output_type": "execute_result",
          "data": {
            "text/plain": [
              "0.5084528532194079"
            ]
          },
          "metadata": {},
          "execution_count": 47
        },
        {
          "output_type": "display_data",
          "data": {
            "image/png": "[encoded data removed]",
            "text/plain": [
              "<Figure size 432x288 with 1 Axes>"
            ]
          },
          "metadata": {
            "needs_background": "light"
          }
        }
      ]
    },
    {
      "cell_type": "code",
      "metadata": {
        "colab": {
          "base_uri": "https://localhost:8080/",
          "height": 282
        },
        "id": "DhMVJvarZo3U",
        "outputId": "8f5e3c77-32c3-4920-d46a-4d9ea0095684"
      },
      "source": [
        "plt.hist(means_rips, bins=30)\n",
        "plt.plot()\n",
        "np.mean(means_rips)"
      ],
      "execution_count": null,
      "outputs": [
        {
          "output_type": "execute_result",
          "data": {
            "text/plain": [
              "0.507857796765334"
            ]
          },
          "metadata": {},
          "execution_count": 48
        },
        {
          "output_type": "display_data",
          "data": {
            "image/png": "[encoded data removed]",
            "text/plain": [
              "<Figure size 432x288 with 1 Axes>"
            ]
          },
          "metadata": {
            "needs_background": "light"
          }
        }
      ]
    },
    {
      "cell_type": "code",
      "metadata": {
        "id": "0S8pKFAFZrIk"
      },
      "source": [
        ""
      ],
      "execution_count": null,
      "outputs": []
    },
    {
      "cell_type": "code",
      "metadata": {
        "id": "3xqsCC7jttj-"
      },
      "source": [
        "ranges = np.arange(1,len(means_conn)+1)\n",
        "cummean_conn = np.cumsum(means_conn)/ranges\n",
        "cummean_rips = np.cumsum(means_rips)/ranges"
      ],
      "execution_count": null,
      "outputs": []
    },
    {
      "cell_type": "code",
      "metadata": {
        "colab": {
          "base_uri": "https://localhost:8080/",
          "height": 282
        },
        "id": "Wf8FFMVBudlq",
        "outputId": "b32b7c03-b74d-4bb3-ff97-0fc7caae3ade"
      },
      "source": [
        "plt.plot(ranges, cummean_conn, color = 'blue')\n",
        "plt.plot(ranges, cummean_rips, color = 'red')"
      ],
      "execution_count": null,
      "outputs": [
        {
          "output_type": "execute_result",
          "data": {
            "text/plain": [
              "[<matplotlib.lines.Line2D at 0x7fca75112250>]"
            ]
          },
          "metadata": {},
          "execution_count": 35
        },
        {
          "output_type": "display_data",
          "data": {
            "image/png": "[encoded data removed]",
            "text/plain": [
              "<Figure size 432x288 with 1 Axes>"
            ]
          },
          "metadata": {
            "needs_background": "light"
          }
        }
      ]
    },
    {
      "cell_type": "markdown",
      "metadata": {
        "id": "njaKvXSP0JMw"
      },
      "source": [
        "# Referencia"
      ]
    },
    {
      "cell_type": "code",
      "metadata": {
        "id": "lbX1dI0p0KSp"
      },
      "source": [
        "with open('results/X_anatomy.pkl', 'rb') as f:\n",
        "    X_anatomy = pickle.load(f)\n",
        "\n",
        "with open('results/X_connectome.pkl', 'rb') as f:\n",
        "    X_connectome = pickle.load(f)\n",
        "\n",
        "with open('results/X_ripser.pkl', 'rb') as f:\n",
        "    X_ripser = pickle.load(f)"
      ],
      "execution_count": null,
      "outputs": []
    },
    {
      "cell_type": "code",
      "metadata": {
        "id": "NT7W7Czh0pMm"
      },
      "source": [
        "X_anatomy_connectome = np.concatenate((X_anatomy, X_connectome), axis=1)\n",
        "X_anatomy_ripser = np.concatenate((X_anatomy, X_ripser), axis=1)"
      ],
      "execution_count": null,
      "outputs": []
    },
    {
      "cell_type": "code",
      "metadata": {
        "id": "EL__JR7I-Lbc"
      },
      "source": [
        ""
      ],
      "execution_count": null,
      "outputs": []
    },
    {
      "cell_type": "code",
      "metadata": {
        "colab": {
          "base_uri": "https://localhost:8080/"
        },
        "id": "kNhzsz1q0xxo",
        "outputId": "3b773ab2-c28d-4038-ac0f-4e222cbd1c31"
      },
      "source": [
        "results_anatomy_anatomy_real = []\n",
        "results_anatomy_rips_real = []\n",
        "results_conn = evaluation(X_anatomy,labels_train)\n",
        "results_anatomy_anatomy_real.append({'type': 'anatomy_real', \n",
        "                          'mean_roc': np.mean(results_conn['test_roc_auc']),\n",
        "                          'mean_acc': np.mean(results_conn['test_accuracy']),\n",
        "                          'mean_pre': np.mean(results_conn['test_precision']), \n",
        "                          'mean_rec': np.mean(results_conn['test_recall']), \n",
        "                          'sd_roc': np.std(results_conn['test_roc_auc']),\n",
        "                          'sd_acc': np.std(results_conn['test_accuracy']), \n",
        "                          'sd_pre': np.std(results_conn['test_precision']), \n",
        "                          'sd_rec': np.std(results_conn['test_recall'])}\n",
        "                        )\n",
        "\n",
        "results_rips = evaluation(X_anatomy_ripser,labels_train)\n",
        "results_anatomy_rips_real.append({'type': 'ripser_anatomy_real', \n",
        "                          'mean_roc': np.mean(results_rips['test_roc_auc']),\n",
        "                          'mean_acc': np.mean(results_rips['test_accuracy']),\n",
        "                          'mean_pre': np.mean(results_rips['test_precision']), \n",
        "                          'mean_rec': np.mean(results_rips['test_recall']), \n",
        "                          'sd_roc': np.std(results_rips['test_roc_auc']),\n",
        "                          'sd_acc': np.std(results_rips['test_accuracy']), \n",
        "                          'sd_pre': np.std(results_rips['test_precision']), \n",
        "                          'sd_rec': np.std(results_rips['test_recall'])}\n",
        "                          )\n"
      ],
      "execution_count": null,
      "outputs": [
        {
          "output_type": "stream",
          "name": "stderr",
          "text": [
            "[Parallel(n_jobs=-1)]: Using backend LokyBackend with 2 concurrent workers.\n",
            "/usr/local/lib/python3.7/dist-packages/sklearn/base.py:197: FutureWarning: From version 0.24, get_params will raise an AttributeError if a parameter cannot be retrieved as an instance attribute. Previously it would return None.\n",
            "  FutureWarning)\n",
            "[Parallel(n_jobs=-1)]: Done   5 out of   5 | elapsed:   14.7s finished\n",
            "[Parallel(n_jobs=-1)]: Using backend LokyBackend with 2 concurrent workers.\n",
            "/usr/local/lib/python3.7/dist-packages/sklearn/base.py:197: FutureWarning: From version 0.24, get_params will raise an AttributeError if a parameter cannot be retrieved as an instance attribute. Previously it would return None.\n",
            "  FutureWarning)\n",
            "[Parallel(n_jobs=-1)]: Done   5 out of   5 | elapsed:   18.9s finished\n"
          ]
        }
      ]
    },
    {
      "cell_type": "code",
      "metadata": {
        "id": "H0ja1ZvV18G2"
      },
      "source": [
        "with open('results_anatomy_anatomy_real.pkl', 'wb') as handle:\n",
        "    pickle.dump(results_anatomy_anatomy_real, handle, protocol=pickle.HIGHEST_PROTOCOL)\n",
        "with open('results_anatomy_rips_real.pkl', 'wb') as handle:\n",
        "    pickle.dump(results_anatomy_rips_real, handle, protocol=pickle.HIGHEST_PROTOCOL)"
      ],
      "execution_count": null,
      "outputs": []
    },
    {
      "cell_type": "code",
      "metadata": {
        "id": "C5MCHb9aYs9V"
      },
      "source": [
        "with open('results_anatomy_anatomy_real.pkl', 'rb') as f:\n",
        "    results_anatomy_anatomy_real = pickle.load(f)\n",
        "\n",
        "with open('results_anatomy_rips_real.pkl', 'rb') as f:\n",
        "    results_anatomy_rips_real = pickle.load(f)"
      ],
      "execution_count": null,
      "outputs": []
    },
    {
      "cell_type": "code",
      "metadata": {
        "colab": {
          "base_uri": "https://localhost:8080/"
        },
        "id": "fvxuu-kl2I8f",
        "outputId": "e534592c-3f4e-422f-b1d1-4036fa1983e2"
      },
      "source": [
        "means_conn_real = [i['mean_acc'] for i in results_anatomy_anatomy_real]\n",
        "means_rips_real = [i['mean_acc'] for i in results_anatomy_rips_real]\n",
        "mean_diff_real = means_conn_real[0]-means_rips_real[0]\n",
        "\n",
        "pval = (means_diff<mean_diff_real).sum()/len(means_diff)\n",
        "pval"
      ],
      "execution_count": null,
      "outputs": [
        {
          "output_type": "execute_result",
          "data": {
            "text/plain": [
              "0.14224137931034483"
            ]
          },
          "metadata": {},
          "execution_count": 53
        }
      ]
    },
    {
      "cell_type": "code",
      "metadata": {
        "colab": {
          "base_uri": "https://localhost:8080/"
        },
        "id": "0n7ZzkoY2_Jq",
        "outputId": "a7ecb218-b0c2-4bcc-c04b-60b8216c790c"
      },
      "source": [
        "print((means_conn_real, means_rips_real, mean_diff_real))"
      ],
      "execution_count": null,
      "outputs": [
        {
          "output_type": "stream",
          "name": "stdout",
          "text": [
            "([0.5823008849557522], [0.6053097345132743], -0.023008849557522137)\n"
          ]
        }
      ]
    },
    {
      "cell_type": "code",
      "metadata": {
        "colab": {
          "base_uri": "https://localhost:8080/",
          "height": 283
        },
        "id": "FjF5wU1D2_k2",
        "outputId": "0d95d141-6fd2-4991-f69e-1ffd0e50a093"
      },
      "source": [
        "plt.hist(means_diff, bins=30)\n",
        "plt.axvline(mean_diff_real, color='k', linestyle='dashed', linewidth=1)\n",
        "plt.plot()"
      ],
      "execution_count": null,
      "outputs": [
        {
          "output_type": "execute_result",
          "data": {
            "text/plain": [
              "[]"
            ]
          },
          "metadata": {},
          "execution_count": 55
        },
        {
          "output_type": "display_data",
          "data": {
            "image/png": "[encoded data removed]",
            "text/plain": [
              "<Figure size 432x288 with 1 Axes>"
            ]
          },
          "metadata": {
            "needs_background": "light"
          }
        }
      ]
    },
    {
      "cell_type": "code",
      "metadata": {
        "colab": {
          "base_uri": "https://localhost:8080/"
        },
        "id": "nIAH-Aep3KMz",
        "outputId": "c0418a61-98e9-4574-ce89-ffb718127b86"
      },
      "source": [
        "results_rips = evaluation(X_anatomy,labels_train)"
      ],
      "execution_count": null,
      "outputs": [
        {
          "output_type": "stream",
          "name": "stderr",
          "text": [
            "[Parallel(n_jobs=-1)]: Using backend LokyBackend with 2 concurrent workers.\n",
            "/usr/local/lib/python3.7/dist-packages/sklearn/base.py:197: FutureWarning: From version 0.24, get_params will raise an AttributeError if a parameter cannot be retrieved as an instance attribute. Previously it would return None.\n",
            "  FutureWarning)\n",
            "[Parallel(n_jobs=-1)]: Done   3 out of   3 | elapsed:    3.6s finished\n"
          ]
        }
      ]
    },
    {
      "cell_type": "code",
      "metadata": {
        "colab": {
          "base_uri": "https://localhost:8080/",
          "height": 281
        },
        "id": "UfoAm4Fe5EEk",
        "outputId": "7b42967c-f39a-484c-9834-f0712d357f1a"
      },
      "source": [
        "from scipy.stats import norm\n",
        "\n",
        "mu, std = np.mean(means_conn), np.std(means_conn)\n",
        "  \n",
        "# Plot the histogram.\n",
        "plt.hist(means_conn, bins=25, density=True, alpha=0.6, color='b')\n",
        "\n",
        "# Plot the PDF.\n",
        "xmin, xmax = plt.xlim()\n",
        "x = np.linspace(xmin, xmax, 100)\n",
        "p = norm.pdf(x, mu, std)\n",
        "  \n",
        "plt.plot(x, p, 'k', linewidth=2)\n",
        "title = \"Fit Values: {:.2f} and {:.2f}\".format(mu, std)\n",
        "plt.title(title)\n",
        "  \n",
        "plt.show()"
      ],
      "execution_count": null,
      "outputs": [
        {
          "output_type": "display_data",
          "data": {
            "image/png": "[encoded data removed]",
            "text/plain": [
              "<Figure size 432x288 with 1 Axes>"
            ]
          },
          "metadata": {
            "needs_background": "light"
          }
        }
      ]
    },
    {
      "cell_type": "code",
      "metadata": {
        "colab": {
          "base_uri": "https://localhost:8080/"
        },
        "id": "L4UcTWTo76C0",
        "outputId": "00ca1ccd-9378-4872-8ca0-67c7c9f0549b"
      },
      "source": [
        "np.mean(means_rips), np.std(means_rips)"
      ],
      "execution_count": null,
      "outputs": [
        {
          "output_type": "execute_result",
          "data": {
            "text/plain": [
              "(0.5085952598921777, 0.030849450499184517)"
            ]
          },
          "metadata": {},
          "execution_count": 48
        }
      ]
    },
    {
      "cell_type": "code",
      "metadata": {
        "id": "LLGtdfTL7-YZ"
      },
      "source": [
        ""
      ],
      "execution_count": null,
      "outputs": []
    },
    {
      "cell_type": "markdown",
      "metadata": {
        "id": "wnLkPSQ5Yw23"
      },
      "source": [
        "# Gráficos y p-valores totales"
      ]
    },
    {
      "cell_type": "code",
      "metadata": {
        "id": "fl8NdiUxbEgn"
      },
      "source": [
        "from scipy.stats import norm"
      ],
      "execution_count": null,
      "outputs": []
    },
    {
      "cell_type": "code",
      "metadata": {
        "id": "drxy6a1PYzeL"
      },
      "source": [
        "random_1 = results_only_anatomy\n",
        "random_2 = results_anatomy_rips\n",
        "real_1 = results_anatomy_anatomy_real\n",
        "real_2 = results_anatomy_rips_real\n",
        "nombre_1 = 'solo anatomía'\n",
        "nombre_2 = 'anatomía y diagramas'"
      ],
      "execution_count": null,
      "outputs": []
    },
    {
      "cell_type": "code",
      "metadata": {
        "id": "u5o9NmG5ZTsk"
      },
      "source": [
        "keys = ['mean_roc','mean_acc','mean_pre','mean_rec','sd_roc','sd_acc','sd_pre','sd_rec']\n",
        "differences = []\n",
        "reals = []\n",
        "for key in keys:\n",
        "  assert len(random_1)==len(random_2)\n",
        "  diff = [random_1[i][key] - random_2[i][key] for i in range(len(random_1))]\n",
        "  differences.append(diff)\n",
        "  rel = [real_1[i][key] - real_2[i][key] for i in range(len(real_1))]\n",
        "  reals.append(rel)"
      ],
      "execution_count": null,
      "outputs": []
    },
    {
      "cell_type": "code",
      "metadata": {
        "id": "JByUIzxBcLWX"
      },
      "source": [
        "pvals = []\n",
        "i=0\n",
        "for key in keys:\n",
        "  pos = sum([np.abs(case)>np.abs(reals[i][0]) for case in differences[i]])\n",
        "  pvals.append(round(pos/len(differences[i]), 5))\n",
        "  i+=1"
      ],
      "execution_count": null,
      "outputs": []
    },
    {
      "cell_type": "code",
      "metadata": {
        "colab": {
          "base_uri": "https://localhost:8080/"
        },
        "id": "Z49oxMchdIlj",
        "outputId": "31848e1d-918f-419e-ef5a-2fbda9c3d8ce"
      },
      "source": [
        "i=0\n",
        "sum([np.abs(case)>np.abs(reals[i][0]) for case in differences[i]])\n"
      ],
      "execution_count": null,
      "outputs": [
        {
          "output_type": "execute_result",
          "data": {
            "text/plain": [
              "143"
            ]
          },
          "metadata": {},
          "execution_count": 28
        }
      ]
    },
    {
      "cell_type": "code",
      "metadata": {
        "colab": {
          "base_uri": "https://localhost:8080/"
        },
        "id": "ltQm9wvveqmq",
        "outputId": "6e7da803-5e1f-4e90-e328-30ebbb1c2005"
      },
      "source": [
        ""
      ],
      "execution_count": null,
      "outputs": [
        {
          "output_type": "execute_result",
          "data": {
            "text/plain": [
              "0.34009571555213414"
            ]
          },
          "metadata": {},
          "execution_count": 33
        }
      ]
    },
    {
      "cell_type": "code",
      "metadata": {
        "colab": {
          "base_uri": "https://localhost:8080/",
          "height": 1000
        },
        "id": "OP5bJMpgayaI",
        "outputId": "53f3095d-3984-4aa3-b9ef-4dfb0f33a8f2"
      },
      "source": [
        "i=0\n",
        "for key in keys:\n",
        "  mu, std = np.mean(differences[i]), np.std(differences[i])\n",
        "  plt.hist(differences[i], bins=25, density=True, alpha=0.6, color='b')\n",
        "  xmin, xmax = plt.xlim()\n",
        "  x = np.linspace(xmin, xmax, 100)\n",
        "  p = norm.pdf(x, mu, std)\n",
        "  plt.plot(x, p, 'k', linewidth=2)\n",
        "  plt.axvline(reals[i], color='k', linestyle='dashed', linewidth=2)\n",
        "  pval_teorico = 2*norm.cdf(-np.abs(reals[i][0]),loc = mu, scale = std)\n",
        "  title = \"Normal con valores: {:.2f} and {:.2f}, \\n diferencias entre {} y {} medida {}. \\n p-valor empírico: {} \\n p-valor teórico: {}\".format(mu, std, nombre_1, nombre_2, key, pvals[i], pval_teorico)\n",
        "  plt.title(title)\n",
        "  plt.show()  \n",
        "  i+=1"
      ],
      "execution_count": null,
      "outputs": [
        {
          "output_type": "display_data",
          "data": {
            "image/png": "[encoded data removed]",
            "text/plain": [
              "<Figure size 432x288 with 1 Axes>"
            ]
          },
          "metadata": {
            "needs_background": "light"
          }
        },
        {
          "output_type": "display_data",
          "data": {
            "image/png": "[encoded data removed]",
            "text/plain": [
              "<Figure size 432x288 with 1 Axes>"
            ]
          },
          "metadata": {
            "needs_background": "light"
          }
        },
        {
          "output_type": "display_data",
          "data": {
            "image/png": "[encoded data removed]",
            "text/plain": [
              "<Figure size 432x288 with 1 Axes>"
            ]
          },
          "metadata": {
            "needs_background": "light"
          }
        },
        {
          "output_type": "display_data",
          "data": {
            "image/png": "[encoded data removed]",
            "text/plain": [
              "<Figure size 432x288 with 1 Axes>"
            ]
          },
          "metadata": {
            "needs_background": "light"
          }
        },
        {
          "output_type": "display_data",
          "data": {
            "image/png": "[encoded data removed]",
            "text/plain": [
              "<Figure size 432x288 with 1 Axes>"
            ]
          },
          "metadata": {
            "needs_background": "light"
          }
        },
        {
          "output_type": "display_data",
          "data": {
            "image/png": "[encoded data removed]",
            "text/plain": [
              "<Figure size 432x288 with 1 Axes>"
            ]
          },
          "metadata": {
            "needs_background": "light"
          }
        },
        {
          "output_type": "display_data",
          "data": {
            "image/png": "[encoded data removed]",
            "text/plain": [
              "<Figure size 432x288 with 1 Axes>"
            ]
          },
          "metadata": {
            "needs_background": "light"
          }
        },
        {
          "output_type": "display_data",
          "data": {
            "image/png": "[encoded data removed]",
            "text/plain": [
              "<Figure size 432x288 with 1 Axes>"
            ]
          },
          "metadata": {
            "needs_background": "light"
          }
        }
      ]
    },
    {
      "cell_type": "code",
      "metadata": {
        "id": "QGyK8cmiasst"
      },
      "source": [
        ""
      ],
      "execution_count": null,
      "outputs": []
    }
  ]
}